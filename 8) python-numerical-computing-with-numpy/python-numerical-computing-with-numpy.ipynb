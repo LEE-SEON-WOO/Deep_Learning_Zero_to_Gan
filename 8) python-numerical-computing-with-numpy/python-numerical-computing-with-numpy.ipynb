{
 "cells": [
  {
   "cell_type": "markdown",
   "source": [
    "# 파이썬과 Numpy를 이용한 산술연산\n",
    "\n",
    "![](https://i.imgur.com/mg8O3kd.png)\n"
   ],
   "metadata": {}
  },
  {
   "cell_type": "markdown",
   "source": [
    "본 장에서는 다음과 같은 주제를 다룹니다:\n",
    "\n",
    "___1. 파이썬에서 수치 데이터 다루기___<br>\n",
    "___2. 파이썬 리스트에서 넘파이 배열(Numpy Array)로___<br>\n",
    "___3. 다차원 넘파이 배열과 장점의 소개___<br>\n",
    "___4. 배열 연산, 브로드캐스팅(broadcasting), 인덱싱(indexing), 슬라이싱(slicing)___<br>\n",
    "___5. 넘파이를 사용해서 CSV 파일 다루기___<br>"
   ],
   "metadata": {}
  },
  {
   "cell_type": "markdown",
   "source": [
    "## 1. 파이썬에서 수치 데이터 다루기\n",
    "\n",
    "데이터 분석(Data Analysis)에서 '데이터(Data)'는 보통 수치 자료를 다룬다.<br>\n",
    "ex) 주가, 판매량, 센서 값, 스포츠 점수, 데이터베이스 표, etc.<br>\n",
    "[Numpy](https://numpy.org) 라이브러리는 파이썬내에서 수리 계산에 유용한 __데이터 구조, 함수, 다른 기능들__을 제공한다.<br>\n",
    "이제 예시들을 보면서 넘파이가 어떻게 수치 데이터 연산에 유용하게 쓰이는지 보도록하자.\n",
    "\n",
    "\n",
    ">당신이 사과나무를 심고자하는 농부라고 생각해보자. 이제 당신은 기온, 강수량, 습도 등과 같은 기후 데이터를 이용해서 어떤 지역이 사과나무를 심기 가장 적절한지 고민해야한다. 고민을 해결할 수 있는 하나의 방법은 아래와 같이 기후 데이터들과 연간 사과 수확량 사이의 관계를 보이는 단순한 식을 만들어 내는 것이다.\n",
    "> `yield_of_apples = w1 * temperature + w2 * rainfall + w3 * humidity`\n",
    "\n",
    "우리는 연간 사과 수확량을 기온, 강수량, 습도와의 가중평균을 이용하여 표현하였다.<br> \n",
    "실제로는 관계가 선형적이지 아닐 수도 있고, 수확량에 영향을 주는 다른 변수들이 존재할 수도 있다.<br> \n",
    "그러나 단순 선형회귀는 좋은 결과를 만들어 내기도 한다.<br>\n",
    "\n",
    "과거 데이터들에 대한 몇가지 통계 처리를 거친다면 각 변수들의 가중치인  `w1`, `w2`, `w3` 를 구할 수 있을 것이다.<br> \n",
    "예시를 보자:"
   ],
   "metadata": {}
  },
  {
   "cell_type": "code",
   "execution_count": 2,
   "source": [
    "w1, w2, w3 = 0.3, 0.2, 0.5"
   ],
   "outputs": [],
   "metadata": {}
  },
  {
   "cell_type": "markdown",
   "source": [
    "지역에 대한 기후 데이터가 주어지면, 이제 사과 수확량을 예측할 수 있다.<br>\n",
    "예시 데이터는 아래와 같다:\n",
    "\n",
    "<img src=\"https://i.imgur.com/TXPBiqv.png\" style=\"width:360px;\">\n",
    "\n",
    "시작하기 앞서, 데이터 이름을 정해야한다."
   ],
   "metadata": {}
  },
  {
   "cell_type": "code",
   "execution_count": 3,
   "source": [
    "kanto_temp = 73\r\n",
    "kanto_rainfall = 67\r\n",
    "kanto_humidity = 43"
   ],
   "outputs": [],
   "metadata": {}
  },
  {
   "cell_type": "markdown",
   "source": [
    "이제 우리는 이 변수들을 사과 수확량을 예측하는 식에 대입할 수 있다."
   ],
   "metadata": {}
  },
  {
   "cell_type": "code",
   "execution_count": 4,
   "source": [
    "kanto_yield_apples = kanto_temp * w1 + kanto_rainfall * w2 + kanto_humidity * w3\r\n",
    "kanto_yield_apples"
   ],
   "outputs": [
    {
     "output_type": "execute_result",
     "data": {
      "text/plain": [
       "56.8"
      ]
     },
     "metadata": {},
     "execution_count": 4
    }
   ],
   "metadata": {}
  },
  {
   "cell_type": "code",
   "execution_count": 5,
   "source": [
    "print(f\"The expected yield of apples in Kanto region is {kanto_yield_apples} tons per hectare.\")"
   ],
   "outputs": [
    {
     "output_type": "stream",
     "name": "stdout",
     "text": [
      "The expected yield of apples in Kanto region is 56.8 tons per hectare.\n"
     ]
    }
   ],
   "metadata": {}
  },
  {
   "cell_type": "markdown",
   "source": [
    "위 식을 다중 선형 회귀(multiple liner regression)으로 만들기 위해서,<br>\n",
    "각 지역의 기후데이터를 벡터 형태로 만드는 것이 좋다.<br>"
   ],
   "metadata": {}
  },
  {
   "cell_type": "code",
   "execution_count": 6,
   "source": [
    "kanto = [73, 67, 43]\r\n",
    "johto = [91, 88, 64]\r\n",
    "hoenn = [87, 134, 58]\r\n",
    "sinnoh = [102, 43, 37]\r\n",
    "unova = [69, 96, 70]"
   ],
   "outputs": [],
   "metadata": {}
  },
  {
   "cell_type": "markdown",
   "source": [
    "벡터의 세가지 값들은 각각  기온, 강우량, 습도 데이터를 의미한다.<br><br>\n",
    "그리고 가중치도 벡터 변수 형태로 만들어 사용한다."
   ],
   "metadata": {}
  },
  {
   "cell_type": "code",
   "execution_count": 7,
   "source": [
    "weights = [w1, w2, w3]"
   ],
   "outputs": [],
   "metadata": {}
  },
  {
   "cell_type": "markdown",
   "source": [
    "이제 함수 `crop_yield`를 만들어 주어진 지역별 기후데이터와 가중치 데이터를 사용해서 사과 수확량을 예측해보도록 한다. "
   ],
   "metadata": {}
  },
  {
   "cell_type": "code",
   "execution_count": 8,
   "source": [
    "def crop_yield(region, weights):\r\n",
    "    result = 0\r\n",
    "    for x, w in zip(region, weights):\r\n",
    "        result += x * w\r\n",
    "    return result"
   ],
   "outputs": [],
   "metadata": {}
  },
  {
   "cell_type": "code",
   "execution_count": 9,
   "source": [
    "crop_yield(kanto, weights)"
   ],
   "outputs": [
    {
     "output_type": "execute_result",
     "data": {
      "text/plain": [
       "56.8"
      ]
     },
     "metadata": {},
     "execution_count": 9
    }
   ],
   "metadata": {}
  },
  {
   "cell_type": "code",
   "execution_count": 10,
   "source": [
    "crop_yield(johto, weights)"
   ],
   "outputs": [
    {
     "output_type": "execute_result",
     "data": {
      "text/plain": [
       "76.9"
      ]
     },
     "metadata": {},
     "execution_count": 10
    }
   ],
   "metadata": {}
  },
  {
   "cell_type": "code",
   "execution_count": 11,
   "source": [
    "crop_yield(unova, weights)"
   ],
   "outputs": [
    {
     "output_type": "execute_result",
     "data": {
      "text/plain": [
       "74.9"
      ]
     },
     "metadata": {},
     "execution_count": 11
    }
   ],
   "metadata": {}
  },
  {
   "cell_type": "markdown",
   "source": [
    "## 2.1 파이썬 리스트에서 넘파이 배열로\n",
    "\n",
    "\n",
    "함수 `crop_yield` 를 이용해서 수행된 계산은 (두 벡터의 요소별 곱셈 및 결과의 합) <font color=red>__내적(dot product)__</font> 이라고 불린다.<br>\n",
    "내적 연산엦 관한 내용은 다음 웹페이지에서 설명하고 있다: https://www.khanacademy.org/math/linear-algebra/vectors-and-spaces/dot-cross-products/v/vector-dot-product-and-vector-length . \n",
    "\n",
    "넘파이 라이브러리는 __내적을 계산해주는 함수__를 제공해준다.<br>\n",
    "그러나, 우리는 일단 이 파이썬 리스트 형태의 데이터를 넘파이 배열 형태로 바꾸는 작업부터 해주어야한다.\n",
    "\n",
    "__'pip'__ 을 이용하여 넘파이를 설치하는 방법을 알아보자"
   ],
   "metadata": {}
  },
  {
   "cell_type": "code",
   "execution_count": 12,
   "source": [
    "#!pip install numpy --upgrade --quiet"
   ],
   "outputs": [],
   "metadata": {}
  },
  {
   "cell_type": "markdown",
   "source": [
    "Numpy 설치가 완료되었다!<br>\n",
    "이제 `numpy` 를 임포트 하여 사용할 수 있다.<br>\n",
    "`numpy`는 보통 `np`라는 이름으로 사용한다."
   ],
   "metadata": {}
  },
  {
   "cell_type": "code",
   "execution_count": 13,
   "source": [
    "import numpy as np"
   ],
   "outputs": [],
   "metadata": {}
  },
  {
   "cell_type": "markdown",
   "source": [
    "이제 `np.array` 함수를 이용해서 넘파이 배열을 만들 수 있다."
   ],
   "metadata": {}
  },
  {
   "cell_type": "code",
   "execution_count": 14,
   "source": [
    "kanto = np.array([73, 67, 43])"
   ],
   "outputs": [],
   "metadata": {}
  },
  {
   "cell_type": "code",
   "execution_count": 15,
   "source": [
    "kanto"
   ],
   "outputs": [
    {
     "output_type": "execute_result",
     "data": {
      "text/plain": [
       "array([73, 67, 43])"
      ]
     },
     "metadata": {},
     "execution_count": 15
    }
   ],
   "metadata": {}
  },
  {
   "cell_type": "code",
   "execution_count": 16,
   "source": [
    "weights = np.array([w1, w2, w3])"
   ],
   "outputs": [],
   "metadata": {}
  },
  {
   "cell_type": "code",
   "execution_count": 17,
   "source": [
    "weights"
   ],
   "outputs": [
    {
     "output_type": "execute_result",
     "data": {
      "text/plain": [
       "array([0.3, 0.2, 0.5])"
      ]
     },
     "metadata": {},
     "execution_count": 17
    }
   ],
   "metadata": {}
  },
  {
   "cell_type": "markdown",
   "source": [
    "넘파이 배열은 __`ndarray` 자료형__으로 만들어져 있다."
   ],
   "metadata": {}
  },
  {
   "cell_type": "code",
   "execution_count": 18,
   "source": [
    "type(kanto)"
   ],
   "outputs": [
    {
     "output_type": "execute_result",
     "data": {
      "text/plain": [
       "numpy.ndarray"
      ]
     },
     "metadata": {},
     "execution_count": 18
    }
   ],
   "metadata": {}
  },
  {
   "cell_type": "code",
   "execution_count": 19,
   "source": [
    "type(weights)"
   ],
   "outputs": [
    {
     "output_type": "execute_result",
     "data": {
      "text/plain": [
       "numpy.ndarray"
      ]
     },
     "metadata": {},
     "execution_count": 19
    }
   ],
   "metadata": {}
  },
  {
   "cell_type": "markdown",
   "source": [
    "리스트와 같이, 넘파이 배열도 __`[]`__ 를 이용하여 __인덱스__로 접근할 수 있다."
   ],
   "metadata": {}
  },
  {
   "cell_type": "code",
   "execution_count": 20,
   "source": [
    "weights[0]"
   ],
   "outputs": [
    {
     "output_type": "execute_result",
     "data": {
      "text/plain": [
       "0.3"
      ]
     },
     "metadata": {},
     "execution_count": 20
    }
   ],
   "metadata": {}
  },
  {
   "cell_type": "code",
   "execution_count": 21,
   "source": [
    "kanto[2]"
   ],
   "outputs": [
    {
     "output_type": "execute_result",
     "data": {
      "text/plain": [
       "43"
      ]
     },
     "metadata": {},
     "execution_count": 21
    }
   ],
   "metadata": {}
  },
  {
   "cell_type": "markdown",
   "source": [
    "## 2.2 넘파이 배열의 연산\n",
    "\n",
    "이제 우리는 넘파이의 __`np.dot()`함수__ 를 이용하여 내적(fot product)연산을 쉽게 할 수 있다."
   ],
   "metadata": {}
  },
  {
   "cell_type": "code",
   "execution_count": 22,
   "source": [
    "np.dot(kanto, weights)"
   ],
   "outputs": [
    {
     "output_type": "execute_result",
     "data": {
      "text/plain": [
       "56.8"
      ]
     },
     "metadata": {},
     "execution_count": 22
    }
   ],
   "metadata": {}
  },
  {
   "cell_type": "markdown",
   "source": [
    "같은 연산 결과를 보다 낮은 수준의 연산자들을 복합적으로 이용하여 구할 수도 있다:<br> \n",
    "원소별 곱셈을 한 후에 해당 결과들의 합을 구하는 방식이다."
   ],
   "metadata": {}
  },
  {
   "cell_type": "code",
   "execution_count": 23,
   "source": [
    "(kanto * weights).sum()"
   ],
   "outputs": [
    {
     "output_type": "execute_result",
     "data": {
      "text/plain": [
       "56.8"
      ]
     },
     "metadata": {},
     "execution_count": 23
    }
   ],
   "metadata": {}
  },
  {
   "cell_type": "markdown",
   "source": [
    " `*` 는 원소별 곱셈을 수행해주는 연산자이다 <font color=red>(두 넘파이 배열의 크기가 같은 경우에만 가능하다)</font><br>\n",
    " `sum`은 배열내 수치 값들의 합을 계산해주는 연산자이다."
   ],
   "metadata": {}
  },
  {
   "cell_type": "code",
   "execution_count": 24,
   "source": [
    "arr1 = np.array([1, 2, 3])\r\n",
    "arr2 = np.array([4, 5, 6])"
   ],
   "outputs": [],
   "metadata": {}
  },
  {
   "cell_type": "code",
   "execution_count": 25,
   "source": [
    "arr1 * arr2"
   ],
   "outputs": [
    {
     "output_type": "execute_result",
     "data": {
      "text/plain": [
       "array([ 4, 10, 18])"
      ]
     },
     "metadata": {},
     "execution_count": 25
    }
   ],
   "metadata": {}
  },
  {
   "cell_type": "code",
   "execution_count": 26,
   "source": [
    "arr2.sum()"
   ],
   "outputs": [
    {
     "output_type": "execute_result",
     "data": {
      "text/plain": [
       "15"
      ]
     },
     "metadata": {},
     "execution_count": 26
    }
   ],
   "metadata": {}
  },
  {
   "cell_type": "markdown",
   "source": [
    "## 3. 넘파이 배열의 장점\n",
    "\n",
    "넘파이 배열은 파이썬 리스트에 비해 다음과 같은 장점을 가지고 있다:\n",
    "<font color = blue>\n",
    "- **손쉬운 사용**: `crop_yield`와 같이 사용자가 정의 함수를 사용하는 것 대신,  `(kanto * weights).sum()`와 같이 간결하고 직관적인 수학 표현식을 작성할 수 있다.\n",
    "- **성능**: 넘파이 연산은 내부적으로 C++로 작동된다. 따라서 파이썬의 기본 연산들보다 빠른 속도로 연산이 가능해진다.\n",
    "</font>\n",
    "\n",
    "파이썬과 넘파이 배열의 성능 차이를 보여주는 몇가지 예시 문제를 보도록 한다."
   ],
   "metadata": {}
  },
  {
   "cell_type": "code",
   "execution_count": 27,
   "source": [
    "# 파이썬 리스트\r\n",
    "arr1 = list(range(1000000))\r\n",
    "arr2 = list(range(1000000, 2000000))\r\n",
    "\r\n",
    "# 너ㅗㅁ\r\n",
    "arr1_np = np.array(arr1)\r\n",
    "arr2_np = np.array(arr2)"
   ],
   "outputs": [],
   "metadata": {}
  },
  {
   "cell_type": "code",
   "execution_count": 28,
   "source": [
    "%%time\n",
    "result = 0\n",
    "for x1, x2 in zip(arr1, arr2):\n",
    "    result += x1*x2\n",
    "result"
   ],
   "outputs": [
    {
     "output_type": "stream",
     "name": "stdout",
     "text": [
      "Wall time: 167 ms\n"
     ]
    },
    {
     "output_type": "execute_result",
     "data": {
      "text/plain": [
       "833332333333500000"
      ]
     },
     "metadata": {},
     "execution_count": 28
    }
   ],
   "metadata": {}
  },
  {
   "cell_type": "code",
   "execution_count": 29,
   "source": [
    "%%time\n",
    "np.dot(arr1_np, arr2_np)"
   ],
   "outputs": [
    {
     "output_type": "stream",
     "name": "stdout",
     "text": [
      "Wall time: 997 µs\n"
     ]
    },
    {
     "output_type": "execute_result",
     "data": {
      "text/plain": [
       "-1942957984"
      ]
     },
     "metadata": {},
     "execution_count": 29
    }
   ],
   "metadata": {}
  },
  {
   "cell_type": "markdown",
   "source": [
    "넘파이의 `np.dot` 를 사용하는 것이 `for` 반복문을 사용하는 것보다 100배 정도 빠르다는 것을 알 수 있었다.<br>\n",
    "이러한 특징은 대량의 데이터와 복잡한 연산구조의 모델이 작동할 때 파이썬 리스트보다 넘파이가 유용하게 만들어 준다."
   ],
   "metadata": {}
  },
  {
   "cell_type": "code",
   "execution_count": 30,
   "source": [
    "import jovian"
   ],
   "outputs": [
    {
     "output_type": "error",
     "ename": "ModuleNotFoundError",
     "evalue": "No module named 'jovian'",
     "traceback": [
      "\u001b[1;31m---------------------------------------------------------------------------\u001b[0m",
      "\u001b[1;31mModuleNotFoundError\u001b[0m                       Traceback (most recent call last)",
      "\u001b[1;32m<ipython-input-30-abad2ca33baa>\u001b[0m in \u001b[0;36m<module>\u001b[1;34m\u001b[0m\n\u001b[1;32m----> 1\u001b[1;33m \u001b[1;32mimport\u001b[0m \u001b[0mjovian\u001b[0m\u001b[1;33m\u001b[0m\u001b[1;33m\u001b[0m\u001b[0m\n\u001b[0m",
      "\u001b[1;31mModuleNotFoundError\u001b[0m: No module named 'jovian'"
     ]
    }
   ],
   "metadata": {}
  },
  {
   "cell_type": "code",
   "execution_count": 31,
   "source": [
    "jovian.commit()"
   ],
   "outputs": [
    {
     "output_type": "error",
     "ename": "NameError",
     "evalue": "name 'jovian' is not defined",
     "traceback": [
      "\u001b[1;31m---------------------------------------------------------------------------\u001b[0m",
      "\u001b[1;31mNameError\u001b[0m                                 Traceback (most recent call last)",
      "\u001b[1;32m<ipython-input-31-7f2017c1a3df>\u001b[0m in \u001b[0;36m<module>\u001b[1;34m\u001b[0m\n\u001b[1;32m----> 1\u001b[1;33m \u001b[0mjovian\u001b[0m\u001b[1;33m.\u001b[0m\u001b[0mcommit\u001b[0m\u001b[1;33m(\u001b[0m\u001b[1;33m)\u001b[0m\u001b[1;33m\u001b[0m\u001b[1;33m\u001b[0m\u001b[0m\n\u001b[0m",
      "\u001b[1;31mNameError\u001b[0m: name 'jovian' is not defined"
     ]
    }
   ],
   "metadata": {}
  },
  {
   "cell_type": "markdown",
   "source": [
    "---\n",
    "## 3.2 다차원 넘파이 배열 \n",
    "\n",
    "이제 한발짝 더 나아가서, 지역의 데이터들을 2차원의 넘파이 배열로 만들어 보도록 하자"
   ],
   "metadata": {}
  },
  {
   "cell_type": "code",
   "execution_count": 32,
   "source": [
    "climate_data = np.array([[73, 67, 43],\n",
    "                         [91, 88, 64],\n",
    "                         [87, 134, 58],\n",
    "                         [102, 43, 37],\n",
    "                         [69, 96, 70]])"
   ],
   "outputs": [],
   "metadata": {}
  },
  {
   "cell_type": "code",
   "execution_count": 33,
   "source": [
    "climate_data"
   ],
   "outputs": [
    {
     "output_type": "execute_result",
     "data": {
      "text/plain": [
       "array([[ 73,  67,  43],\n",
       "       [ 91,  88,  64],\n",
       "       [ 87, 134,  58],\n",
       "       [102,  43,  37],\n",
       "       [ 69,  96,  70]])"
      ]
     },
     "metadata": {},
     "execution_count": 33
    }
   ],
   "metadata": {}
  },
  {
   "cell_type": "markdown",
   "source": [
    "위의 2차원 배열은 5개의 행(row)과 3개의 열(colums)를 가지고 있다.<br>\n",
    "각 열들은 하나의 지역을 의미하고 행들은 각각 기온, 강수량, 습도를 의미한다.<br><br>\n",
    "\n",
    "넘파이 배열은 어떠한 차원이라도 표현이가능하고 다양한 형태가 존재한다. <br>\n",
    "넘파이 배열의 `.shape` 특성을 이용한다면 해당 배열의 차원을 알 수 있다. \n",
    "\n",
    "<img src=\"https://fgnt.github.io/python_crashkurs_doc/_images/numpy_array_t.png\" width=\"420\">\n",
    "\n"
   ],
   "metadata": {}
  },
  {
   "cell_type": "code",
   "execution_count": 37,
   "source": [
    "# 2차원 배열(행렬: Matrix)\n",
    "climate_data.shape"
   ],
   "outputs": [
    {
     "output_type": "execute_result",
     "data": {
      "text/plain": [
       "(5, 3)"
      ]
     },
     "metadata": {},
     "execution_count": 37
    }
   ],
   "metadata": {}
  },
  {
   "cell_type": "code",
   "execution_count": 38,
   "source": [
    "weights"
   ],
   "outputs": [
    {
     "output_type": "execute_result",
     "data": {
      "text/plain": [
       "array([0.3, 0.2, 0.5])"
      ]
     },
     "metadata": {},
     "execution_count": 38
    }
   ],
   "metadata": {}
  },
  {
   "cell_type": "code",
   "execution_count": 39,
   "source": [
    "# 1차원 배열(벡터 : Vector)\n",
    "weights.shape"
   ],
   "outputs": [
    {
     "output_type": "execute_result",
     "data": {
      "text/plain": [
       "(3,)"
      ]
     },
     "metadata": {},
     "execution_count": 39
    }
   ],
   "metadata": {}
  },
  {
   "cell_type": "code",
   "execution_count": 40,
   "source": [
    "# 3차원 배열 \n",
    "arr3 = np.array([\n",
    "    [[11, 12, 13], \n",
    "     [13, 14, 15]], \n",
    "    [[15, 16, 17], \n",
    "     [17, 18, 19.5]]])"
   ],
   "outputs": [],
   "metadata": {}
  },
  {
   "cell_type": "code",
   "execution_count": 41,
   "source": [
    "arr3.shape"
   ],
   "outputs": [
    {
     "output_type": "execute_result",
     "data": {
      "text/plain": [
       "(2, 2, 3)"
      ]
     },
     "metadata": {},
     "execution_count": 41
    }
   ],
   "metadata": {}
  },
  {
   "cell_type": "markdown",
   "source": [
    "단일 넘파이 배열 내의 모든 원소들은 __<font color=red> 하나의 자료형으로만 존재할 수 있다</font>__. <br>\n",
    "`.dtype` 특성을 이용한다면 원소들의 자료형을 알 수 있다."
   ],
   "metadata": {}
  },
  {
   "cell_type": "code",
   "execution_count": 42,
   "source": [
    "weights.dtype"
   ],
   "outputs": [
    {
     "output_type": "execute_result",
     "data": {
      "text/plain": [
       "dtype('float64')"
      ]
     },
     "metadata": {},
     "execution_count": 42
    }
   ],
   "metadata": {}
  },
  {
   "cell_type": "code",
   "execution_count": 43,
   "source": [
    "climate_data.dtype"
   ],
   "outputs": [
    {
     "output_type": "execute_result",
     "data": {
      "text/plain": [
       "dtype('int32')"
      ]
     },
     "metadata": {},
     "execution_count": 43
    }
   ],
   "metadata": {}
  },
  {
   "cell_type": "markdown",
   "source": [
    "배열내에 하나의 원소만 실수형 일지라도<br> \n",
    "모든 다른 원소들은 실수형으로 변환된다."
   ],
   "metadata": {}
  },
  {
   "cell_type": "code",
   "execution_count": 44,
   "source": [
    "arr3.dtype"
   ],
   "outputs": [
    {
     "output_type": "execute_result",
     "data": {
      "text/plain": [
       "dtype('float64')"
      ]
     },
     "metadata": {},
     "execution_count": 44
    }
   ],
   "metadata": {}
  },
  {
   "cell_type": "markdown",
   "source": [
    "### 행렬곱 연산 : np.matmul(), @\n",
    "우리는 이제 한번의 행렬곱만으로도 사과 수확량을 예측할 수 있게 되었다.<br>\n",
    "행렬곱은 5x3 행렬로 기후 데이터를 가지고 있는 `climate_data`와 <br>\n",
    "3x1 배열로 가중치를 가지고 있는 `weights`사이에서 이루어 진다.<br>\n",
    "과정은 아래와 같이 시각화 될 수 있다.\n",
    "\n",
    "<img src=\"https://i.imgur.com/LJ2WKSI.png\" width=\"240\">\n",
    "\n",
    "행렬곱 연산에 대해 보다 자세하게 알고 싶다면 옆의 동영상 플레이리스트의 3번영상 까지를 참고하는 것도 좋다: https://www.youtube.com/watch?v=xyAuNHPsq-g&list=PLFD0EB975BA0CC1E0&index=1 .\n",
    "\n",
    "__`np.matmul` 함수__ 나 __`@` 연산자__ 는 넘파이 배열 사이의 행렬곱 연산을 쉽게 해준다."
   ],
   "metadata": {}
  },
  {
   "cell_type": "code",
   "execution_count": 45,
   "source": [
    "np.matmul(climate_data, weights)"
   ],
   "outputs": [
    {
     "output_type": "execute_result",
     "data": {
      "text/plain": [
       "array([56.8, 76.9, 81.9, 57.7, 74.9])"
      ]
     },
     "metadata": {},
     "execution_count": 45
    }
   ],
   "metadata": {}
  },
  {
   "cell_type": "code",
   "execution_count": 46,
   "source": [
    "climate_data @ weights"
   ],
   "outputs": [
    {
     "output_type": "execute_result",
     "data": {
      "text/plain": [
       "array([56.8, 76.9, 81.9, 57.7, 74.9])"
      ]
     },
     "metadata": {},
     "execution_count": 46
    }
   ],
   "metadata": {}
  },
  {
   "cell_type": "markdown",
   "source": [
    "---\n",
    "## 4. 넘파이를 이용한 CSV 데이터 다루기\n",
    "\n",
    "넘파이는 __데이터를 읽고 쓰는 것을 지원하는 함수__ 들을 제공하고 있다.<br>\n",
    "만개의 기후 측정 데이터를 가지고 있는 `climate.txt`파일을 다운로드 받아보도록 한다.\n",
    "\n",
    "```\n",
    "temperature,rainfall,humidity\n",
    "25.00,76.00,99.00\n",
    "39.00,65.00,70.00\n",
    "59.00,45.00,77.00\n",
    "84.00,63.00,38.00\n",
    "66.00,50.00,52.00\n",
    "41.00,94.00,77.00\n",
    "91.00,57.00,96.00\n",
    "49.00,96.00,99.00\n",
    "67.00,20.00,28.00\n",
    "...\n",
    "```\n",
    "\n",
    "이러한 데이터 저장 형태를  ___쉼표로 구분된 파일___ 또는 __CSV__ 라고 한다. \n",
    "\n",
    "> **CSVs**: A comma-separated values (CSV) file is a delimited text file that uses a comma to separate values. Each line of the file is a data record. Each record consists of one or more fields, separated by commas. A CSV file typically stores tabular data (numbers and text) in plain text, in which case each line will have the same number of fields. (Wikipedia)\n",
    "\n",
    "\n",
    "이러한 파일을 넘파이 배열로 읽어 내기 위해서 `genfromtxt` 함수를 사용한다."
   ],
   "metadata": {}
  },
  {
   "cell_type": "code",
   "execution_count": 47,
   "source": [
    "import urllib.request\n",
    "\n",
    "urllib.request.urlretrieve(\n",
    "    'https://hub.jovian.ml/wp-content/uploads/2020/08/climate.csv', \n",
    "    'climate.txt')"
   ],
   "outputs": [
    {
     "output_type": "execute_result",
     "data": {
      "text/plain": [
       "('climate.txt', <http.client.HTTPMessage at 0x2ef7b536e50>)"
      ]
     },
     "metadata": {},
     "execution_count": 47
    }
   ],
   "metadata": {}
  },
  {
   "cell_type": "code",
   "execution_count": 48,
   "source": [
    "climate_data = np.genfromtxt('climate.txt', delimiter=',', skip_header=1)"
   ],
   "outputs": [],
   "metadata": {}
  },
  {
   "cell_type": "code",
   "execution_count": 49,
   "source": [
    "climate_data"
   ],
   "outputs": [
    {
     "output_type": "execute_result",
     "data": {
      "text/plain": [
       "array([[25., 76., 99.],\n",
       "       [39., 65., 70.],\n",
       "       [59., 45., 77.],\n",
       "       ...,\n",
       "       [99., 62., 58.],\n",
       "       [70., 71., 91.],\n",
       "       [92., 39., 76.]])"
      ]
     },
     "metadata": {},
     "execution_count": 49
    }
   ],
   "metadata": {}
  },
  {
   "cell_type": "code",
   "execution_count": 50,
   "source": [
    "climate_data.shape"
   ],
   "outputs": [
    {
     "output_type": "execute_result",
     "data": {
      "text/plain": [
       "(10000, 3)"
      ]
     },
     "metadata": {},
     "execution_count": 50
    }
   ],
   "metadata": {}
  },
  {
   "cell_type": "markdown",
   "source": [
    "우리는 이제 `@` 연산자를 이용해서 전체 데이터 셋에 대한 가중치 계산을 쉽게 해낼 수 있다."
   ],
   "metadata": {}
  },
  {
   "cell_type": "code",
   "execution_count": 51,
   "source": [
    "weights = np.array([0.3, 0.2, 0.5])"
   ],
   "outputs": [],
   "metadata": {}
  },
  {
   "cell_type": "code",
   "execution_count": 52,
   "source": [
    "yields = climate_data @ weights"
   ],
   "outputs": [],
   "metadata": {}
  },
  {
   "cell_type": "code",
   "execution_count": 53,
   "source": [
    "yields"
   ],
   "outputs": [
    {
     "output_type": "execute_result",
     "data": {
      "text/plain": [
       "array([72.2, 59.7, 65.2, ..., 71.1, 80.7, 73.4])"
      ]
     },
     "metadata": {},
     "execution_count": 53
    }
   ],
   "metadata": {}
  },
  {
   "cell_type": "code",
   "execution_count": 54,
   "source": [
    "yields.shape"
   ],
   "outputs": [
    {
     "output_type": "execute_result",
     "data": {
      "text/plain": [
       "(10000,)"
      ]
     },
     "metadata": {},
     "execution_count": 54
    }
   ],
   "metadata": {}
  },
  {
   "cell_type": "markdown",
   "source": [
    " `yields` 를 `climate_data` 의 네번째 열로 추가해보도록 한다.<br> \n",
    " [`np.concatenate`](https://numpy.org/doc/stable/reference/generated/numpy.concatenate.html) 함수를 이용하면 이와 같은 연산을 쉽게 할 수 있다."
   ],
   "metadata": {}
  },
  {
   "cell_type": "code",
   "execution_count": 55,
   "source": [
    "climate_results = np.concatenate((climate_data, yields.reshape(10000, 1)), axis=1)"
   ],
   "outputs": [],
   "metadata": {}
  },
  {
   "cell_type": "code",
   "execution_count": 56,
   "source": [
    "climate_results"
   ],
   "outputs": [
    {
     "output_type": "execute_result",
     "data": {
      "text/plain": [
       "array([[25. , 76. , 99. , 72.2],\n",
       "       [39. , 65. , 70. , 59.7],\n",
       "       [59. , 45. , 77. , 65.2],\n",
       "       ...,\n",
       "       [99. , 62. , 58. , 71.1],\n",
       "       [70. , 71. , 91. , 80.7],\n",
       "       [92. , 39. , 76. , 73.4]])"
      ]
     },
     "metadata": {},
     "execution_count": 56
    }
   ],
   "metadata": {}
  },
  {
   "cell_type": "markdown",
   "source": [
    "\n",
    "* 새로운 열을 추가하고 싶을 때는, `np.concatenate`함수에 새로운 파라미터 `axis=1` 를 추가하게 된다.`axis`는 배열을 합치는 방향(차원)을 지정해 주는 기능을 한다.\n",
    "\n",
    "*  배열을 합칠 때는 합치는 대상이 되는 차원 이외의 다른 차원들은 같은 길이와 깊이를 가지고 있어야한다. <br> We use the [`np.reshape`](https://numpy.org/doc/stable/reference/generated/numpy.reshape.html) function to change the shape of `yields` from `(10000,)` to `(10000,1)`.\n",
    "\n",
    "Here's a visual explanation of `np.concatenate` along `axis=1` (can you guess what `axis=0` results in?):\n",
    "\n",
    "<img src=\"https://www.w3resource.com/w3r_images/python-numpy-image-exercise-58.png\" width=\"300\">\n",
    "\n",
    "The best way to understand what a Numpy function does is to experiment with it and read the documentation to learn about its arguments & return values. Use the cells below to experiment with `np.concatenate` and `np.reshape`."
   ],
   "metadata": {}
  },
  {
   "cell_type": "markdown",
   "source": [
    "최종 결과물이 담겨진 넘파이 배열을 `np.savetxt` 함수를 이용하여 파일로 저장해보자."
   ],
   "metadata": {}
  },
  {
   "cell_type": "code",
   "execution_count": 57,
   "source": [
    "climate_results"
   ],
   "outputs": [
    {
     "output_type": "execute_result",
     "data": {
      "text/plain": [
       "array([[25. , 76. , 99. , 72.2],\n",
       "       [39. , 65. , 70. , 59.7],\n",
       "       [59. , 45. , 77. , 65.2],\n",
       "       ...,\n",
       "       [99. , 62. , 58. , 71.1],\n",
       "       [70. , 71. , 91. , 80.7],\n",
       "       [92. , 39. , 76. , 73.4]])"
      ]
     },
     "metadata": {},
     "execution_count": 57
    }
   ],
   "metadata": {}
  },
  {
   "cell_type": "code",
   "execution_count": 58,
   "source": [
    "np.savetxt('climate_results.txt', \r\n",
    "           climate_results, \r\n",
    "           fmt='%.2f', \r\n",
    "           delimiter=',',\r\n",
    "           header='temperature,rainfall,humidity,yeild_apples', \r\n",
    "           comments='')"
   ],
   "outputs": [],
   "metadata": {}
  },
  {
   "cell_type": "markdown",
   "source": [
    "결과물은 `climate_results.txt` 라는 이름을 가진 CSV 형태의 파일로 저장되게 된다|. \n",
    "\n",
    "```\n",
    "temperature,rainfall,humidity,yeild_apples\n",
    "25.00,76.00,99.00,72.20\n",
    "39.00,65.00,70.00,59.70\n",
    "59.00,45.00,77.00,65.20\n",
    "84.00,63.00,38.00,56.80\n",
    "...\n",
    "```\n",
    "\n"
   ],
   "metadata": {}
  },
  {
   "cell_type": "markdown",
   "source": [
    "---\n",
    "넘파이는 배열 연산을 위한 수백가지 함수들을 제공한다:\n",
    "\n",
    "\n",
    "* 수리연산: `np.sum`, `np.exp`, `np.round`, 산술 연산자들(+, -, *, /)\n",
    "* 배열 생성: `np.reshape`, `np.stack`, `np.concatenate`, `np.split`\n",
    "* 선형 대수: `np.matmul`, `np.dot`, `np.transpose`, `np.eigvals`\n",
    "* 통계: `np.mean`, `np.median`, `np.std`, `np.max`\n",
    "\n",
    "> **필요한 함수들은 어떻게 찾을 수 있나요?**<br>\n",
    "필요한 기능을 하는 함수들을 찾는 가장 쉬운 방법은 인터넷에 검색하는 것입니다. 예를들어 \"어떻게 넘파이 배열을 합칠 수 있을까요?\"라는 질문은 이 페이지로 이어집니다. [this tutorial on array concatenation](https://cmdlinetips.com/2018/04/how-to-concatenate-arrays-in-numpy/). \n",
    "\n",
    "넘파이 배열과 관련한 모든 함수들은 이곳에 명시되어있습니다: https://numpy.org/doc/stable/reference/routines.html"
   ],
   "metadata": {}
  },
  {
   "cell_type": "markdown",
   "source": [
    "## 5.1 배열연산, 브로드캐스팅, 비교연산\n",
    "\n",
    "넘파이 배열은 수리 연산자 `+`, `-`, `*`등을 지원한다.<br>\n",
    "스칼라를 비롯한 다양한 넘파이 배열에 대해 연산을 수행할 수 있다.<br>\n",
    "연산자는 다차원 배열들에 대한 수학적 표현을 쉽게 만들어 준다."
   ],
   "metadata": {}
  },
  {
   "cell_type": "code",
   "execution_count": 59,
   "source": [
    "arr2 = np.array([[1, 2, 3, 4], \r\n",
    "                 [5, 6, 7, 8], \r\n",
    "                 [9, 1, 2, 3]])"
   ],
   "outputs": [],
   "metadata": {}
  },
  {
   "cell_type": "code",
   "execution_count": 60,
   "source": [
    "arr3 = np.array([[11, 12, 13, 14], \r\n",
    "                 [15, 16, 17, 18], \r\n",
    "                 [19, 11, 12, 13]])"
   ],
   "outputs": [],
   "metadata": {}
  },
  {
   "cell_type": "code",
   "execution_count": 61,
   "source": [
    "# 스칼라 더하기\r\n",
    "arr2 + 3"
   ],
   "outputs": [
    {
     "output_type": "execute_result",
     "data": {
      "text/plain": [
       "array([[ 4,  5,  6,  7],\n",
       "       [ 8,  9, 10, 11],\n",
       "       [12,  4,  5,  6]])"
      ]
     },
     "metadata": {},
     "execution_count": 61
    }
   ],
   "metadata": {}
  },
  {
   "cell_type": "code",
   "execution_count": 62,
   "source": [
    "# 원소별 빼기\n",
    "arr3 - arr2"
   ],
   "outputs": [
    {
     "output_type": "execute_result",
     "data": {
      "text/plain": [
       "array([[10, 10, 10, 10],\n",
       "       [10, 10, 10, 10],\n",
       "       [10, 10, 10, 10]])"
      ]
     },
     "metadata": {},
     "execution_count": 62
    }
   ],
   "metadata": {}
  },
  {
   "cell_type": "code",
   "execution_count": 63,
   "source": [
    "# 스칼라 값으로 나누기\n",
    "arr2 / 2"
   ],
   "outputs": [
    {
     "output_type": "execute_result",
     "data": {
      "text/plain": [
       "array([[0.5, 1. , 1.5, 2. ],\n",
       "       [2.5, 3. , 3.5, 4. ],\n",
       "       [4.5, 0.5, 1. , 1.5]])"
      ]
     },
     "metadata": {},
     "execution_count": 63
    }
   ],
   "metadata": {}
  },
  {
   "cell_type": "code",
   "execution_count": 64,
   "source": [
    "# 원소별 곱하기\n",
    "arr2 * arr3"
   ],
   "outputs": [
    {
     "output_type": "execute_result",
     "data": {
      "text/plain": [
       "array([[ 11,  24,  39,  56],\n",
       "       [ 75,  96, 119, 144],\n",
       "       [171,  11,  24,  39]])"
      ]
     },
     "metadata": {},
     "execution_count": 64
    }
   ],
   "metadata": {}
  },
  {
   "cell_type": "code",
   "execution_count": 65,
   "source": [
    "# 스칼라 나머지 연산하기\n",
    "arr2 % 4"
   ],
   "outputs": [
    {
     "output_type": "execute_result",
     "data": {
      "text/plain": [
       "array([[1, 2, 3, 0],\n",
       "       [1, 2, 3, 0],\n",
       "       [1, 1, 2, 3]], dtype=int32)"
      ]
     },
     "metadata": {},
     "execution_count": 65
    }
   ],
   "metadata": {}
  },
  {
   "cell_type": "markdown",
   "source": [
    "### 배열 브로드캐스팅\n",
    "\n",
    "넘파이 배열은 __브로드캐스팅(broad casting)__ 기능을 지원한다<br>\n",
    "브로드 캐스팅은 차원이 다른 두 배열 간의 연산이 가능하도록 지원한다."
   ],
   "metadata": {}
  },
  {
   "cell_type": "code",
   "execution_count": 66,
   "source": [
    "arr2 = np.array([[1, 2, 3, 4], \n",
    "                 [5, 6, 7, 8], \n",
    "                 [9, 1, 2, 3]])"
   ],
   "outputs": [],
   "metadata": {}
  },
  {
   "cell_type": "code",
   "execution_count": 67,
   "source": [
    "arr2.shape"
   ],
   "outputs": [
    {
     "output_type": "execute_result",
     "data": {
      "text/plain": [
       "(3, 4)"
      ]
     },
     "metadata": {},
     "execution_count": 67
    }
   ],
   "metadata": {}
  },
  {
   "cell_type": "code",
   "execution_count": 68,
   "source": [
    "arr4 = np.array([4, 5, 6, 7])"
   ],
   "outputs": [],
   "metadata": {}
  },
  {
   "cell_type": "code",
   "execution_count": 69,
   "source": [
    "arr4.shape"
   ],
   "outputs": [
    {
     "output_type": "execute_result",
     "data": {
      "text/plain": [
       "(4,)"
      ]
     },
     "metadata": {},
     "execution_count": 69
    }
   ],
   "metadata": {}
  },
  {
   "cell_type": "code",
   "execution_count": 70,
   "source": [
    "arr2 + arr4"
   ],
   "outputs": [
    {
     "output_type": "execute_result",
     "data": {
      "text/plain": [
       "array([[ 5,  7,  9, 11],\n",
       "       [ 9, 11, 13, 15],\n",
       "       [13,  6,  8, 10]])"
      ]
     },
     "metadata": {},
     "execution_count": 70
    }
   ],
   "metadata": {}
  },
  {
   "cell_type": "markdown",
   "source": [
    "`arr2 + arr4` 라는 식이 계산될 때, `arr4` 는 `arr2`의 형태인  `(3, 4)`과 연산하기 위해 모양을 맞춘다.<br>\n",
    "넘파이는 실제로 배열의 크기를 변경하는 것 없이 자동으로 연산이 가능하도록 연산식을 수정해준다.<br>\n",
    "\n",
    "<img src=\"https://jakevdp.github.io/PythonDataScienceHandbook/figures/02.05-broadcasting.png\" width=\"360\">\n",
    "\n",
    "브로드캐스팅은 두 연산되는 배열이 서로 다른 모양을 가지고 있을 때, 자동으로 호출된다."
   ],
   "metadata": {}
  },
  {
   "cell_type": "code",
   "execution_count": 71,
   "source": [
    "arr5 = np.array([7, 8])"
   ],
   "outputs": [],
   "metadata": {}
  },
  {
   "cell_type": "code",
   "execution_count": 72,
   "source": [
    "arr5.shape"
   ],
   "outputs": [
    {
     "output_type": "execute_result",
     "data": {
      "text/plain": [
       "(2,)"
      ]
     },
     "metadata": {},
     "execution_count": 72
    }
   ],
   "metadata": {}
  },
  {
   "cell_type": "code",
   "execution_count": 73,
   "source": [
    "arr2 + arr5"
   ],
   "outputs": [
    {
     "output_type": "error",
     "ename": "ValueError",
     "evalue": "operands could not be broadcast together with shapes (3,4) (2,) ",
     "traceback": [
      "\u001b[1;31m---------------------------------------------------------------------------\u001b[0m",
      "\u001b[1;31mValueError\u001b[0m                                Traceback (most recent call last)",
      "\u001b[1;32m<ipython-input-73-c22e92053c39>\u001b[0m in \u001b[0;36m<module>\u001b[1;34m\u001b[0m\n\u001b[1;32m----> 1\u001b[1;33m \u001b[0marr2\u001b[0m \u001b[1;33m+\u001b[0m \u001b[0marr5\u001b[0m\u001b[1;33m\u001b[0m\u001b[1;33m\u001b[0m\u001b[0m\n\u001b[0m",
      "\u001b[1;31mValueError\u001b[0m: operands could not be broadcast together with shapes (3,4) (2,) "
     ]
    }
   ],
   "metadata": {}
  },
  {
   "cell_type": "markdown",
   "source": [
    "위의 예제는, `arr5` 가 여러번 반복될지라도 `arr2`의 모양과 맞는 배수가 없기 때문에 오류가 발생한다.<br>\n",
    "따라서 `arr2 + arr5` 는 계산될 수가 없다.<br>\n",
    "브로드캐스팅에 대해서는 다음 웹페이지를 참고하면  된다.: https://numpy.org/doc/stable/user/basics.broadcasting.html ."
   ],
   "metadata": {}
  },
  {
   "cell_type": "markdown",
   "source": [
    "###  배열 비교\n",
    "\n",
    "넘파이 배열은 비교 연산자도 지원한다.  `==`, `!=`, `>`. 연산의 결과는 Boolean 형태로 출력된다."
   ],
   "metadata": {}
  },
  {
   "cell_type": "code",
   "execution_count": 74,
   "source": [
    "arr1 = np.array([[1, 2, 3], [3, 4, 5]])\r\n",
    "arr2 = np.array([[2, 2, 3], [1, 2, 5]])"
   ],
   "outputs": [],
   "metadata": {}
  },
  {
   "cell_type": "code",
   "execution_count": 75,
   "source": [
    "arr1 == arr2"
   ],
   "outputs": [
    {
     "output_type": "execute_result",
     "data": {
      "text/plain": [
       "array([[False,  True,  True],\n",
       "       [False, False,  True]])"
      ]
     },
     "metadata": {},
     "execution_count": 75
    }
   ],
   "metadata": {}
  },
  {
   "cell_type": "code",
   "execution_count": 76,
   "source": [
    "arr1 != arr2"
   ],
   "outputs": [
    {
     "output_type": "execute_result",
     "data": {
      "text/plain": [
       "array([[ True, False, False],\n",
       "       [ True,  True, False]])"
      ]
     },
     "metadata": {},
     "execution_count": 76
    }
   ],
   "metadata": {}
  },
  {
   "cell_type": "code",
   "execution_count": 77,
   "source": [
    "arr1 >= arr2"
   ],
   "outputs": [
    {
     "output_type": "execute_result",
     "data": {
      "text/plain": [
       "array([[False,  True,  True],\n",
       "       [ True,  True,  True]])"
      ]
     },
     "metadata": {},
     "execution_count": 77
    }
   ],
   "metadata": {}
  },
  {
   "cell_type": "code",
   "execution_count": 78,
   "source": [
    "arr1 < arr2"
   ],
   "outputs": [
    {
     "output_type": "execute_result",
     "data": {
      "text/plain": [
       "array([[ True, False, False],\n",
       "       [False, False, False]])"
      ]
     },
     "metadata": {},
     "execution_count": 78
    }
   ],
   "metadata": {}
  },
  {
   "cell_type": "markdown",
   "source": [
    "배열 비교 연산 두개의 배열에 대해 `sum` 함수를 사용하기 전에 배열간의 값을 비교하기 위해 빈번하게 사용된다.<br>\n",
    "__`True`값이 `1`로 표현되고 `False`값이 `0` 으로 표현된다__는것을 명심하자"
   ],
   "metadata": {}
  },
  {
   "cell_type": "code",
   "execution_count": 79,
   "source": [
    "(arr1 == arr2).sum()"
   ],
   "outputs": [
    {
     "output_type": "execute_result",
     "data": {
      "text/plain": [
       "3"
      ]
     },
     "metadata": {},
     "execution_count": 79
    }
   ],
   "metadata": {}
  },
  {
   "cell_type": "markdown",
   "source": [
    "---\n",
    "## 5.2 배열 인덱싱과 슬라이싱\n",
    "\n",
    "넘파이는 파이썬 리스트의 인덱싱이 사용하는 `[]` 을 사용하여 직관적으로 값에 접근하게 해준다.<br>\n",
    "`;`를 사용하는 슬라이싱도 배열의 원소를 접근하는데에 동일하게 사용될 수 있다~!"
   ],
   "metadata": {}
  },
  {
   "cell_type": "code",
   "execution_count": 80,
   "source": [
    "arr3 = np.array([\r\n",
    "    [[11, 12, 13, 14], \r\n",
    "     [13, 14, 15, 19]], \r\n",
    "    \r\n",
    "    [[15, 16, 17, 21], \r\n",
    "     [63, 92, 36, 18]], \r\n",
    "    \r\n",
    "    [[98, 32, 81, 23],      \r\n",
    "     [17, 18, 19.5, 43]]])"
   ],
   "outputs": [],
   "metadata": {}
  },
  {
   "cell_type": "code",
   "execution_count": 81,
   "source": [
    "arr3.shape"
   ],
   "outputs": [
    {
     "output_type": "execute_result",
     "data": {
      "text/plain": [
       "(3, 2, 4)"
      ]
     },
     "metadata": {},
     "execution_count": 81
    }
   ],
   "metadata": {}
  },
  {
   "cell_type": "code",
   "execution_count": 82,
   "source": [
    "# 원소 슬라이싱\r\n",
    "arr3[1, 1, 2]"
   ],
   "outputs": [
    {
     "output_type": "execute_result",
     "data": {
      "text/plain": [
       "36.0"
      ]
     },
     "metadata": {},
     "execution_count": 82
    }
   ],
   "metadata": {}
  },
  {
   "cell_type": "code",
   "execution_count": 84,
   "source": [
    "# 이중 배열의 생성\r\n",
    "arr3[1:, 0:1, :2]"
   ],
   "outputs": [
    {
     "output_type": "execute_result",
     "data": {
      "text/plain": [
       "array([[[15., 16.]],\n",
       "\n",
       "       [[98., 32.]]])"
      ]
     },
     "metadata": {},
     "execution_count": 84
    }
   ],
   "metadata": {}
  },
  {
   "cell_type": "code",
   "execution_count": 85,
   "source": [
    "# 인덱싱과 슬라이싱을 복합적으로 사용\r\n",
    "arr3[1:, 1, 3]"
   ],
   "outputs": [
    {
     "output_type": "execute_result",
     "data": {
      "text/plain": [
       "array([18., 43.])"
      ]
     },
     "metadata": {},
     "execution_count": 85
    }
   ],
   "metadata": {}
  },
  {
   "cell_type": "code",
   "execution_count": 86,
   "source": [
    "# 인덱싱과 슬라이싱을 복합적으로 사용(2)\r\n",
    "arr3[1:, 1, :3]"
   ],
   "outputs": [
    {
     "output_type": "execute_result",
     "data": {
      "text/plain": [
       "array([[63. , 92. , 36. ],\n",
       "       [17. , 18. , 19.5]])"
      ]
     },
     "metadata": {},
     "execution_count": 86
    }
   ],
   "metadata": {}
  },
  {
   "cell_type": "code",
   "execution_count": 89,
   "source": [
    "# 모양(3차원) 보다 적은 인덱스(1차원)를 사용할 때\r\n",
    "arr3[1]"
   ],
   "outputs": [
    {
     "output_type": "execute_result",
     "data": {
      "text/plain": [
       "array([[15., 16., 17., 21.],\n",
       "       [63., 92., 36., 18.]])"
      ]
     },
     "metadata": {},
     "execution_count": 89
    }
   ],
   "metadata": {}
  },
  {
   "cell_type": "code",
   "execution_count": 92,
   "source": [
    "# 모양(3차원) 보다 적은 인덱스(2차원)를 사용할 때\r\n",
    "arr3[:2, 1]"
   ],
   "outputs": [
    {
     "output_type": "execute_result",
     "data": {
      "text/plain": [
       "array([[13., 14., 15., 19.],\n",
       "       [63., 92., 36., 18.]])"
      ]
     },
     "metadata": {},
     "execution_count": 92
    }
   ],
   "metadata": {}
  },
  {
   "cell_type": "code",
   "execution_count": 93,
   "source": [
    "# 너무 많은 인덱싱을 사용한 경우\r\n",
    "arr3[1,3,2,1]"
   ],
   "outputs": [
    {
     "output_type": "error",
     "ename": "IndexError",
     "evalue": "too many indices for array: array is 3-dimensional, but 4 were indexed",
     "traceback": [
      "\u001b[1;31m---------------------------------------------------------------------------\u001b[0m",
      "\u001b[1;31mIndexError\u001b[0m                                Traceback (most recent call last)",
      "\u001b[1;32m<ipython-input-93-2091cc6239fb>\u001b[0m in \u001b[0;36m<module>\u001b[1;34m\u001b[0m\n\u001b[0;32m      1\u001b[0m \u001b[1;31m# 너무 많은 인덱싱을 사용한 경우\u001b[0m\u001b[1;33m\u001b[0m\u001b[1;33m\u001b[0m\u001b[1;33m\u001b[0m\u001b[0m\n\u001b[1;32m----> 2\u001b[1;33m \u001b[0marr3\u001b[0m\u001b[1;33m[\u001b[0m\u001b[1;36m1\u001b[0m\u001b[1;33m,\u001b[0m\u001b[1;36m3\u001b[0m\u001b[1;33m,\u001b[0m\u001b[1;36m2\u001b[0m\u001b[1;33m,\u001b[0m\u001b[1;36m1\u001b[0m\u001b[1;33m]\u001b[0m\u001b[1;33m\u001b[0m\u001b[1;33m\u001b[0m\u001b[0m\n\u001b[0m",
      "\u001b[1;31mIndexError\u001b[0m: too many indices for array: array is 3-dimensional, but 4 were indexed"
     ]
    }
   ],
   "metadata": {}
  },
  {
   "cell_type": "markdown",
   "source": [
    "표현과 결과가 처음에는 헷갈릴 수도 있다. 천천히 실험해 보면서 익숙해 지도록하자!!<br>\n",
    "아래의 그림은 시각적으로 어떤과정을 통해 인덱싱과 슬라이싱이 이루어지는지 보여준다.\n",
    "\n",
    "<img src=\"https://scipy-lectures.org/_images/numpy_indexing.png\" width=\"360\">"
   ],
   "metadata": {}
  },
  {
   "cell_type": "markdown",
   "source": [
    "## 배열을 만드는 또다른 방법들\n",
    "\n",
    "넘파이는 이 이외에도 고정 값이나 난수 값을 이용해서 넘파이 배열을 생성하는 방법들이 있다.<br>\n",
    "다음의 웹사이트를 확인하거나 `help` 함수를 이용해서 배열 생성 방법들을 찾을 수 있다.<br>\n",
    "[official documentation](https://numpy.org/doc/stable/reference/routines.array-creation.html) or use the `help` function to learn more."
   ],
   "metadata": {}
  },
  {
   "cell_type": "code",
   "execution_count": 94,
   "source": [
    "# 원소 0으로 생성\r\n",
    "np.zeros((3, 2))"
   ],
   "outputs": [
    {
     "output_type": "execute_result",
     "data": {
      "text/plain": [
       "array([[0., 0.],\n",
       "       [0., 0.],\n",
       "       [0., 0.]])"
      ]
     },
     "metadata": {},
     "execution_count": 94
    }
   ],
   "metadata": {}
  },
  {
   "cell_type": "code",
   "execution_count": 95,
   "source": [
    "# 원소 1로 생성\r\n",
    "np.ones([2, 2, 3])"
   ],
   "outputs": [
    {
     "output_type": "execute_result",
     "data": {
      "text/plain": [
       "array([[[1., 1., 1.],\n",
       "        [1., 1., 1.]],\n",
       "\n",
       "       [[1., 1., 1.],\n",
       "        [1., 1., 1.]]])"
      ]
     },
     "metadata": {},
     "execution_count": 95
    }
   ],
   "metadata": {}
  },
  {
   "cell_type": "code",
   "execution_count": 96,
   "source": [
    "# 단위 행렬 생성\r\n",
    "np.eye(3)"
   ],
   "outputs": [
    {
     "output_type": "execute_result",
     "data": {
      "text/plain": [
       "array([[1., 0., 0.],\n",
       "       [0., 1., 0.],\n",
       "       [0., 0., 1.]])"
      ]
     },
     "metadata": {},
     "execution_count": 96
    }
   ],
   "metadata": {}
  },
  {
   "cell_type": "code",
   "execution_count": 99,
   "source": [
    "# 랜덤 값으로 생성(실수)\r\n",
    "np.random.rand(5)"
   ],
   "outputs": [
    {
     "output_type": "execute_result",
     "data": {
      "text/plain": [
       "array([0.04680116, 0.06911503, 0.59750036, 0.18262961, 0.82070366])"
      ]
     },
     "metadata": {},
     "execution_count": 99
    }
   ],
   "metadata": {}
  },
  {
   "cell_type": "code",
   "execution_count": 100,
   "source": [
    "# 랜덤 값으로 생성(정수)\r\n",
    "np.random.randn(2, 3) "
   ],
   "outputs": [
    {
     "output_type": "execute_result",
     "data": {
      "text/plain": [
       "array([[0.61183741, 1.01942618, 1.45234318],\n",
       "       [0.45413521, 1.32372203, 1.86886   ]])"
      ]
     },
     "metadata": {},
     "execution_count": 100
    }
   ],
   "metadata": {}
  },
  {
   "cell_type": "code",
   "execution_count": 101,
   "source": [
    "# 고정 값\r\n",
    "np.full([2, 3], 42)"
   ],
   "outputs": [
    {
     "output_type": "execute_result",
     "data": {
      "text/plain": [
       "array([[42, 42, 42],\n",
       "       [42, 42, 42]])"
      ]
     },
     "metadata": {},
     "execution_count": 101
    }
   ],
   "metadata": {}
  },
  {
   "cell_type": "code",
   "execution_count": 102,
   "source": [
    "# 시작 값과 끝 값, 그리고 증가 값들을 알려줄 때의 생성(1)\r\n",
    "np.arange(10, 90, 3)"
   ],
   "outputs": [
    {
     "output_type": "execute_result",
     "data": {
      "text/plain": [
       "array([10, 13, 16, 19, 22, 25, 28, 31, 34, 37, 40, 43, 46, 49, 52, 55, 58,\n",
       "       61, 64, 67, 70, 73, 76, 79, 82, 85, 88])"
      ]
     },
     "metadata": {},
     "execution_count": 102
    }
   ],
   "metadata": {}
  },
  {
   "cell_type": "code",
   "execution_count": 103,
   "source": [
    "# 시작 값과 끝 값, 그리고 증가 값들을 알려줄 때의 생성(2)\r\n",
    "np.linspace(3, 27, 9)"
   ],
   "outputs": [
    {
     "output_type": "execute_result",
     "data": {
      "text/plain": [
       "array([ 3.,  6.,  9., 12., 15., 18., 21., 24., 27.])"
      ]
     },
     "metadata": {},
     "execution_count": 103
    }
   ],
   "metadata": {}
  },
  {
   "cell_type": "markdown",
   "source": [
    "## 요약\n",
    "\n",
    "이번 장을 통해서, 우리는 넘파이를 이용한 수치 연산을 알아볼 수 있었다.<br>\n",
    "다음과 같은 주제들이 이번 튜토리얼을 통해 학습되었다.\n",
    "\n",
    "- 파이썬 리스트에서 넘파이 배열로 전환\n",
    "- 넘파이 배열에서의 연산\n",
    "- 넘파이가 리스트에 비해 가지는 이점\n",
    "- 다차원 넘파이 배열\n",
    "- CSV 데이터 파일을 다루는 법\n",
    "- 배열 인덱싱과 슬라이싱\n",
    "- 넘파이 배열을 생성하는 여러가지 방법\n",
    "\n",
    "넘파이에 대해 보다 많은 정보는 아래 웹페이지들을 참고 할 수 있다.\n",
    "\n",
    "- Official tutorial: https://numpy.org/devdocs/user/quickstart.html\n",
    "- Numpy tutorial on W3Schools: https://www.w3schools.com/python/numpy_intro.asp\n",
    "- Advanced Numpy (exploring the internals): http://scipy-lectures.org/advanced/advanced_numpy/index.html"
   ],
   "metadata": {}
  },
  {
   "cell_type": "markdown",
   "source": [
    "## 복습을 위한 질문\r\n",
    "\r\n",
    "이 노트북에서 다루는 주제에 대한 이해도를 테스트하기 위해 다음 질문에 답해 보십시오.\r\n",
    "\r\n",
    "1. 벡터란 무엇인가?\r\n",
    "2. Python의 list자료형을 사용하여 벡터를 어떻게 표현합니까? 예를 들어 보세요.\r\n",
    "3. 두 벡터의 내적(dot product)은 무엇입니까?\r\n",
    "4. 두 벡터의 내적을 계산하는 함수를 작성하십시오.\r\n",
    "5. Numpy가 뭔가요?\r\n",
    "6. Numpy를 어떻게 설치합니까?\r\n",
    "7. `numpy` 모듈을 어떻게 가져오나요?\r\n",
    "8. 별칭(Alias)가 있는 모듈을 가져온다는 것은 무엇을 의미합니까? 예를 들어 보세요.\r\n",
    "9. `numpy`에 일반적으로 사용되는 별칭은 무엇인지 써보세요?\r\n",
    "10. Numpy 배열이란 무엇입니까?\r\n",
    "11. Numpy 배열은 어떻게 생성합니까? 예를 들어 주십시오.\r\n",
    "12. Numpy 배열의 유형은 무엇입니까?\r\n",
    "13. Numpy 배열의 요소에 어떻게 접근하는지?\r\n",
    "14. Numpy를 사용하여 두 벡터의 내적을 어떻게 계산합니까?\r\n",
    "15. 크기가 다른 두 벡터의 내적을 계산하려고 하면 어떻게 됩니까?\r\n",
    "16. 두 Numpy 배열의 요소별 곱을 어떻게 계산합니까?\r\n",
    "17. Numpy 배열에 있는 모든 요소의 합을 어떻게 계산합니까?\r\n",
    "18. 숫자 데이터 작업을 위해 Python 목록보다 Numpy 배열을 사용하면 어떤 장점이 있는지?\r\n",
    "19. Numpy 배열 연산이 Python 함수 및 루프에 비해 성능이 더 나은 이유는 무엇인지?\r\n",
    "20. 예제를 사용하여 Numpy 배열 작업과 Python 루프 간의 성능 차이를 설명해 보세요.\r\n",
    "21. 다차원 Numpy 배열이란 무엇입니까?\r\n",
    "22. 2, 3, 4차원의 Numpy 배열 생성을 보여보세요.\r\n",
    "23. Numpy 배열에서 차원의 수와 각 차원의 길이를 어떻게 검사하는지 설명해보세요?\r\n",
    "24. Numpy 배열의 요소가 다른 데이터 유형(dtype)을 가질 수 있습니까?\r\n",
    "25. Numpy 배열 요소의 데이터 유형(dtype)을 어떻게 확인합니까?\r\n",
    "26. Numpy 배열의 데이터 유형(data type)은 무엇입니까?\r\n",
    "27. 행렬과 2D Numpy 배열의 차이점은 무엇입니까?\r\n",
    "28. Numpy를 사용하여 행렬 곱셈(matrix multiplication)을 수행하는 방법은 무엇입니까?\r\n",
    "29. Numpy에서 `@` 연산자는 무엇에 사용됩니까?\r\n",
    "30. CSV 파일 형식은 무엇입니까?\r\n",
    "31. Numpy를 사용하여 CSV 파일에서 데이터를 어떻게 읽습니까?\r\n",
    "32. 두 개의 Numpy 배열을 어떻게 연결(concatenate)합니까?\r\n",
    "33. `np.concatenate`의 `axis` 인수(argument)의 목적은 무엇입니까?\r\n",
    "34. 두 개의 Numpy Array가 연결이 가능한 경우는 경우는 언제입니까?\r\n",
    "35. 연결할 수 있는 두 개의 Numpy 배열의 예를 들어 보세요.\r\n",
    "36. 연결할 수 없는 두 개의 Numpy 배열의 예를 들어 보세요.\r\n",
    "37. `np.reshape` 함수의 목적은 무엇입니까?\r\n",
    "38. Numpy 배열을 \"재구성(reshape)\"한다는 것은 무엇을 의미합니까?\r\n",
    "39. numpy 배열을 CSV 파일에 어떻게 쓰나요?\r\n",
    "40. 수학 연산을 수행하기 위한 Numpy 함수의 몇 가지 예를 들어 보십시오.\r\n",
    "41. 배열 조작(array manipulation)을 수행하기 위한 Numpy 함수의 몇 가지 예를 제시하십시오.\r\n",
    "42. 선형 대수(linear algebra)를 수행하기 위한 Numpy 함수의 몇 가지 예를 들어 보십시오.\r\n",
    "43. 통계 연산을 수행하기 위한 Numpy 함수의 몇 가지 예를 들어보세요.\r\n",
    "44. 특정 작업이나 사용 사례에 적합한 Numpy 기능을 어떻게 찾는지 설명해보세요?\r\n",
    "45. 모든 Numpy 배열 함수 및 작업 목록은 어디에서 볼 수 있는지 설명해보세요?\r\n",
    "46. ​​Numpy 배열에서 지원하는 산술 연산자는 무엇입니까? 예를 들어 설명해보세요.\r\n",
    "47. Array BroadCasting이란? 어떻게 유용한지? 예를 들어 설명해보세요.\r\n",
    "48. BroadCasting Array의 예를 몇 가지 들어보세요.\r\n",
    "49. BroadCasting Array가 되지 않는 Array의 예를 몇 가지를 들어보세요.\r\n",
    "50. Numpy 배열에서 지원하는 비교 연산자는 무엇입니까? 예를 들어 설명해 보세요.\r\n",
    "51. Numpy 배열에서 특정 하위 배열 또는 슬라이스에 어떻게 액세스합니까?\r\n",
    "52. 몇 가지 예를 들어 다차원 Numpy 배열에서 배열 인덱싱 및 슬라이싱을 설명해 보세요.\r\n",
    "53. 모든 0을 포함하는 주어진 모양으로 Numpy 배열을 어떻게 생성합니까?\r\n",
    "54. 모든 것을 포함하는 주어진 모양으로 Numpy 배열을 어떻게 생성합니까?\r\n",
    "55. 주어진 모양의 단위 행렬을 어떻게 생성하는지 설명해보세요.\r\n",
    "56. 주어진 길이의 랜덤 벡터를 어떻게 생성하는지 설명해보세요.\r\n",
    "57. 각 요소에 대해 고정된 값으로 주어진 모양으로 Numpy 배열을 어떻게 생성한는지 설명해보세요.\r\n",
    "58. 무작위로 초기화된 요소를 포함하는 주어진 모양으로 Numpy 배열을 어떻게 생성하는지 설명해보세요.\r\n",
    "59. `np.random.rand`와 `np.random.randn`의 차이점은 무엇인지 예를 들어 설명해보세요.\r\n",
    "60. `np.arange`와 `np.linspace`의 차이점은 무엇인지 예를 들어 설명해보세요."
   ],
   "metadata": {}
  },
  {
   "cell_type": "markdown",
   "source": [],
   "metadata": {}
  }
 ],
 "metadata": {
  "kernelspec": {
   "display_name": "Python 3",
   "language": "python",
   "name": "python3"
  },
  "language_info": {
   "codemirror_mode": {
    "name": "ipython",
    "version": 3
   },
   "file_extension": ".py",
   "mimetype": "text/x-python",
   "name": "python",
   "nbconvert_exporter": "python",
   "pygments_lexer": "ipython3",
   "version": "3.8.8"
  }
 },
 "nbformat": 4,
 "nbformat_minor": 4
}