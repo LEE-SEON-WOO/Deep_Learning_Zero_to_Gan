{
 "cells": [
  {
   "cell_type": "markdown",
   "metadata": {},
   "source": [
    "# 파이썬을 이용한 파일 입출력\n",
    "\n",
    "![](https://i.imgur.com/rv8wZ7l.png)"
   ]
  },
  {
   "cell_type": "markdown",
   "metadata": {},
   "source": [
    "이 장은 다음과 같은 주제를 다룹니다:\n",
    "<font color=blue>\n",
    "- `os` 라이브러리를 이용한 파일 입출력\n",
    "- `urllib` 라이브러리를 이용해서 웹에서 파일 다운로드 받기\n",
    "- 텍스트 파일에서 데이터 읽고 처리하기\n",
    "- CSV 파일로부터 데이터를 딕셔너리와 리스트 자료형으로 가져오기\n",
    "- 텍스트 파일로 데이터 저장하기\n",
    "</font>"
   ]
  },
  {
   "cell_type": "markdown",
   "metadata": {},
   "source": [
    "## 1. OS 라이브러리를 이용한 파일 입출력\n",
    "파이썬의 `os` 라이브러리의 함수들을 이용해서 컴퓨터의 OS 환경와 상호작용할 수 있게 해준다.<br>\n",
    "라이브러리를 임포트하고 몇가지 예제들을 풀어보도록 하자"
   ]
  },
  {
   "cell_type": "code",
   "execution_count": 1,
   "metadata": {},
   "outputs": [],
   "source": [
    "import os"
   ]
  },
  {
   "cell_type": "markdown",
   "metadata": {},
   "source": [
    "`os.getcwd` 함수를 통해서 현재 작업 폴더가 어딘지 확인할 수 있다."
   ]
  },
  {
   "cell_type": "code",
   "execution_count": 2,
   "metadata": {},
   "outputs": [
    {
     "data": {
      "text/plain": [
       "'C:\\\\Users\\\\LilMae\\\\Desktop\\\\workspace\\\\Faker_Expert'"
      ]
     },
     "execution_count": 2,
     "metadata": {},
     "output_type": "execute_result"
    }
   ],
   "source": [
    "os.getcwd()"
   ]
  },
  {
   "cell_type": "markdown",
   "metadata": {},
   "source": [
    "`os.listdir` 함수를 이용하면, 폴더 내 파일들의 목록을 구할 수 있다.<br>\n",
    "함수에 __절대경로__ 또는 __상대경로__ 를 인수로 넣어서 시작 폴더를 설정할 수 있다."
   ]
  },
  {
   "cell_type": "code",
   "execution_count": 4,
   "metadata": {},
   "outputs": [
    {
     "name": "stdout",
     "output_type": "stream",
     "text": [
      "Help on built-in function listdir in module nt:\n",
      "\n",
      "listdir(path=None)\n",
      "    Return a list containing the names of the files in the directory.\n",
      "    \n",
      "    path can be specified as either str, bytes, or a path-like object.  If path is bytes,\n",
      "      the filenames returned will also be bytes; in all other circumstances\n",
      "      the filenames returned will be str.\n",
      "    If path is None, uses the path='.'.\n",
      "    On some platforms, path may also be specified as an open file descriptor;\\\n",
      "      the file descriptor must refer to a directory.\n",
      "      If this functionality is unavailable, using it raises NotImplementedError.\n",
      "    \n",
      "    The list is in arbitrary order.  It does not include the special\n",
      "    entries '.' and '..' even if they are present in the directory.\n",
      "\n"
     ]
    }
   ],
   "source": [
    "help(os.listdir)"
   ]
  },
  {
   "cell_type": "code",
   "execution_count": 5,
   "metadata": {},
   "outputs": [
    {
     "data": {
      "text/plain": [
       "['.git',\n",
       " '.ipynb_checkpoints',\n",
       " '0.JupyterNotebook.ipynb',\n",
       " '1.python-variables-and-data-types.ipynb',\n",
       " '2.python-branching-and-loops.ipynb',\n",
       " '3.python-functions-and-scope.ipynb',\n",
       " '4.python-matplotlib-data-visualization.ipynb',\n",
       " '5.python-pandas-data-analysis.ipynb',\n",
       " '6.python-os-and-filesystem.ipynb',\n",
       " '7.python-numerical-computing-with-numpy.ipynb',\n",
       " '8.pytorch-basics.ipynb',\n",
       " 'climate.txt',\n",
       " 'climate_results.txt',\n",
       " 'data']"
      ]
     },
     "execution_count": 5,
     "metadata": {},
     "output_type": "execute_result"
    }
   ],
   "source": [
    "os.listdir('.') # 상대 경로"
   ]
  },
  {
   "cell_type": "code",
   "execution_count": 6,
   "metadata": {},
   "outputs": [
    {
     "ename": "FileNotFoundError",
     "evalue": "[WinError 3] 지정된 경로를 찾을 수 없습니다: '/usr'",
     "output_type": "error",
     "traceback": [
      "\u001b[1;31m---------------------------------------------------------------------------\u001b[0m",
      "\u001b[1;31mFileNotFoundError\u001b[0m                         Traceback (most recent call last)",
      "\u001b[1;32m<ipython-input-6-075017b6bc71>\u001b[0m in \u001b[0;36m<module>\u001b[1;34m\u001b[0m\n\u001b[1;32m----> 1\u001b[1;33m \u001b[0mos\u001b[0m\u001b[1;33m.\u001b[0m\u001b[0mlistdir\u001b[0m\u001b[1;33m(\u001b[0m\u001b[1;34m'/usr'\u001b[0m\u001b[1;33m)\u001b[0m \u001b[1;31m# 절대 경로\u001b[0m\u001b[1;33m\u001b[0m\u001b[1;33m\u001b[0m\u001b[0m\n\u001b[0m",
      "\u001b[1;31mFileNotFoundError\u001b[0m: [WinError 3] 지정된 경로를 찾을 수 없습니다: '/usr'"
     ]
    }
   ],
   "source": [
    "os.listdir('/usr') # 절대 경로"
   ]
  },
  {
   "cell_type": "markdown",
   "metadata": {},
   "source": [
    "__`os.makedirs`__ 를 이용해서 새로운 폴더를 생성할 수 있다.<br>\n",
    "__`data`__ 라는 폴더를 만들고 몇가지 파일들을 다운받아보자"
   ]
  },
  {
   "cell_type": "code",
   "execution_count": 7,
   "metadata": {},
   "outputs": [],
   "source": [
    "os.makedirs('./data', exist_ok=True)"
   ]
  },
  {
   "cell_type": "markdown",
   "metadata": {},
   "source": [
    "`exist_ok`라는 파라미터는 해당 폴더가 만들어질 수 있는지의 여부를 확인하는 역할을 한다.<br>\n",
    "자세한 내용은 다음 웹페이지를 통해 확인할 수 있다. [read the documentation](https://docs.python.org/3/library/os.html#os.makedirs).<br>\n",
    "만들어진 `data` 폴더가 비어있는지 확인해보자"
   ]
  },
  {
   "cell_type": "code",
   "execution_count": 8,
   "metadata": {},
   "outputs": [
    {
     "data": {
      "text/plain": [
       "True"
      ]
     },
     "execution_count": 8,
     "metadata": {},
     "output_type": "execute_result"
    }
   ],
   "source": [
    "'data' in os.listdir('.')"
   ]
  },
  {
   "cell_type": "code",
   "execution_count": 9,
   "metadata": {},
   "outputs": [
    {
     "data": {
      "text/plain": [
       "['emis2.txt', 'loans1.txt', 'loans2.txt', 'loans3.txt']"
      ]
     },
     "execution_count": 9,
     "metadata": {},
     "output_type": "execute_result"
    }
   ],
   "source": [
    "os.listdir('./data')"
   ]
  },
  {
   "cell_type": "markdown",
   "metadata": {},
   "source": [
    "`data`폴더 내로 몇가지 파일들을 `urllib`라이브러리를 통해 다운로드 받아보도록 하자."
   ]
  },
  {
   "cell_type": "code",
   "execution_count": 10,
   "metadata": {},
   "outputs": [],
   "source": [
    "url1 = 'https://gist.githubusercontent.com/aakashns/257f6e6c8719c17d0e498ea287d1a386/raw/7def9ef4234ddf0bc82f855ad67dac8b971852ef/loans1.txt'\n",
    "url2 = 'https://gist.githubusercontent.com/aakashns/257f6e6c8719c17d0e498ea287d1a386/raw/7def9ef4234ddf0bc82f855ad67dac8b971852ef/loans2.txt'\n",
    "url3 = 'https://gist.githubusercontent.com/aakashns/257f6e6c8719c17d0e498ea287d1a386/raw/7def9ef4234ddf0bc82f855ad67dac8b971852ef/loans3.txt'"
   ]
  },
  {
   "cell_type": "code",
   "execution_count": 11,
   "metadata": {},
   "outputs": [],
   "source": [
    "import urllib.request"
   ]
  },
  {
   "cell_type": "code",
   "execution_count": 12,
   "metadata": {},
   "outputs": [
    {
     "data": {
      "text/plain": [
       "('./data/loans1.txt', <http.client.HTTPMessage at 0x23366527c70>)"
      ]
     },
     "execution_count": 12,
     "metadata": {},
     "output_type": "execute_result"
    }
   ],
   "source": [
    "urllib.request.urlretrieve(url1, './data/loans1.txt')"
   ]
  },
  {
   "cell_type": "code",
   "execution_count": 13,
   "metadata": {},
   "outputs": [
    {
     "data": {
      "text/plain": [
       "('./data/loans2.txt', <http.client.HTTPMessage at 0x23366527a60>)"
      ]
     },
     "execution_count": 13,
     "metadata": {},
     "output_type": "execute_result"
    }
   ],
   "source": [
    "urllib.request.urlretrieve(url2, './data/loans2.txt')"
   ]
  },
  {
   "cell_type": "code",
   "execution_count": 14,
   "metadata": {},
   "outputs": [
    {
     "data": {
      "text/plain": [
       "('./data/loans3.txt', <http.client.HTTPMessage at 0x23366527a00>)"
      ]
     },
     "execution_count": 14,
     "metadata": {},
     "output_type": "execute_result"
    }
   ],
   "source": [
    "urllib.request.urlretrieve(url3, './data/loans3.txt')"
   ]
  },
  {
   "cell_type": "markdown",
   "metadata": {},
   "source": [
    "파일이 제대로 다운로드 되었는지 확인해보도록 한다!"
   ]
  },
  {
   "cell_type": "code",
   "execution_count": 15,
   "metadata": {},
   "outputs": [
    {
     "data": {
      "text/plain": [
       "['emis2.txt', 'loans1.txt', 'loans2.txt', 'loans3.txt']"
      ]
     },
     "execution_count": 15,
     "metadata": {},
     "output_type": "execute_result"
    }
   ],
   "source": [
    "os.listdir('./data')"
   ]
  },
  {
   "cell_type": "markdown",
   "metadata": {},
   "source": [
    "### 파일로부터 읽어오기 \n",
    "\n",
    "파일의 내용을 읽기 위해서, 내장함수인 `open`을 사용해야한다.<br>\n",
    "`open`함수는 파일 내용을 반환하고 내용에 사용할 수 있는 함수들을 제공한다."
   ]
  },
  {
   "cell_type": "code",
   "execution_count": 16,
   "metadata": {},
   "outputs": [],
   "source": [
    "file1 = open('./data/loans1.txt', mode='r')"
   ]
  },
  {
   "cell_type": "markdown",
   "metadata": {},
   "source": [
    "`open` 함수는 `mode` 파라미터는 파일에 접근하는 방식을 명시해준다.<Kbr>\n",
    "다음과 같은 선택지를 지원하게 해준다:\n",
    "\n",
    "```\n",
    "    ========= ===============================================================\n",
    "    Character Meaning\n",
    "    --------- ---------------------------------------------------------------\n",
    "    'r'       읽기 모드 (default)\n",
    "    'w'       쓰기 모드, 기존 데이터 지우고 새로 쓰기\n",
    "    'x'       새로운 파일을 만들고 쓰기 모드로 열기\n",
    "    'a'       쓰기 모드, 기존 파일 뒤에 이어서 쓰기\n",
    "    'b'       이진(binary) 모드\n",
    "    't'       텍스트 모드 (default)\n",
    "    '+'       읽고 쓰기 모드 \n",
    "    ========= ===============================================================\n",
    "```\n",
    "\n"
   ]
  },
  {
   "cell_type": "code",
   "execution_count": 17,
   "metadata": {},
   "outputs": [],
   "source": [
    "file1_contents = file1.read()"
   ]
  },
  {
   "cell_type": "code",
   "execution_count": 18,
   "metadata": {},
   "outputs": [
    {
     "name": "stdout",
     "output_type": "stream",
     "text": [
      "amount,duration,rate,down_payment\n",
      "100000,36,0.08,20000\n",
      "200000,12,0.1,\n",
      "628400,120,0.12,100000\n",
      "4637400,240,0.06,\n",
      "42900,90,0.07,8900\n",
      "916000,16,0.13,\n",
      "45230,48,0.08,4300\n",
      "991360,99,0.08,\n",
      "423000,27,0.09,47200\n"
     ]
    }
   ],
   "source": [
    "print(file1_contents)"
   ]
  },
  {
   "cell_type": "markdown",
   "metadata": {},
   "source": [
    "파일은 이자와 관련한 정보를 담고 있다. 파일은 CSV 형태로 구성되어 있다.\n",
    "> **CSVs**: A comma-separated values (CSV) file is a delimited text file that uses a comma to separate values. Each line of the file is a data record. Each record consists of one or more fields, separated by commas. A CSV file typically stores tabular data (numbers and text) in plain text, in which case each line will have the same number of fields. (Wikipedia)\n",
    "\n",
    "파일의 가장 첫번째 줄에는, 각 열들이 어떤 값들을 의미하는지에 대한 정보가 기입되어 있다.<br>\n",
    "각각의 남아있는 줄들은 대출과 관련한 정보를 담고 있다.<br>\n",
    "따라서 두번째 줄 `10000,36,0.08,20000` 은 다음과 같은 내용을 담고 있다.\n",
    "\n",
    "* 대출금 :  `$10000`, \n",
    "* 대출기간 : `36` 개월, \n",
    "* 이자율 `8%`  \n",
    "* 계약금 : `$20000`\n",
    "\n",
    "__CSV는 데이터 분석과 시각화에서 사용하는 공시적인 자료 저장 형태이다.__<br>\n",
    "대부분의 파이썬에서 다루는 파일들은 CSV 파일로 구성되어 있고 본 튜토리얼 전반에 걸쳐서도 CSV 파일을 다루도록 할 것이다.<br>\n",
    "파일 작업을 마친후 해당 파일과의 연결을 종료하기 위해서는 `close`함수를 사용한다.<br>\n",
    "<font color=red>그렇지 않으면 RAM안에 파이썬에서 열어둔 파일 데이터가 계속 남아 있다!</font>"
   ]
  },
  {
   "cell_type": "code",
   "execution_count": 19,
   "metadata": {},
   "outputs": [],
   "source": [
    "file1.close()"
   ]
  },
  {
   "cell_type": "markdown",
   "metadata": {},
   "source": [
    "파일이 한번 닫히면 해당 변수를 통해 파일에 다시 접근할 수 없다."
   ]
  },
  {
   "cell_type": "code",
   "execution_count": 20,
   "metadata": {},
   "outputs": [
    {
     "ename": "ValueError",
     "evalue": "I/O operation on closed file.",
     "output_type": "error",
     "traceback": [
      "\u001b[1;31m---------------------------------------------------------------------------\u001b[0m",
      "\u001b[1;31mValueError\u001b[0m                                Traceback (most recent call last)",
      "\u001b[1;32m<ipython-input-20-2fcf3b5e742f>\u001b[0m in \u001b[0;36m<module>\u001b[1;34m\u001b[0m\n\u001b[1;32m----> 1\u001b[1;33m \u001b[0mfile1\u001b[0m\u001b[1;33m.\u001b[0m\u001b[0mread\u001b[0m\u001b[1;33m(\u001b[0m\u001b[1;33m)\u001b[0m\u001b[1;33m\u001b[0m\u001b[1;33m\u001b[0m\u001b[0m\n\u001b[0m",
      "\u001b[1;31mValueError\u001b[0m: I/O operation on closed file."
     ]
    }
   ],
   "source": [
    "file1.read()"
   ]
  },
  {
   "cell_type": "markdown",
   "metadata": {},
   "source": [
    "###  `with` 를 활용해 자동으로 파일 닫기\n",
    "\n",
    "파일을 내용 처리를 마친후 자동으로 닫기 위해 `with` 문을 활용할 수도 있다."
   ]
  },
  {
   "cell_type": "code",
   "execution_count": 21,
   "metadata": {},
   "outputs": [
    {
     "name": "stdout",
     "output_type": "stream",
     "text": [
      "amount,duration,rate,down_payment\n",
      "828400,120,0.11,100000\n",
      "4633400,240,0.06,\n",
      "42900,90,0.08,8900\n",
      "983000,16,0.14,\n",
      "15230,48,0.07,4300\n"
     ]
    }
   ],
   "source": [
    "with open('./data/loans2.txt') as file2:\n",
    "    file2_contents = file2.read()\n",
    "    print(file2_contents)"
   ]
  },
  {
   "cell_type": "markdown",
   "metadata": {},
   "source": [
    " `with` 를 통해 파일을 열게 되면 해당 문을 탈출하면서, `.close`함수가자동으로 호출된다.<br>\n",
    " 따라서 위와 같은 경우 `file2`에 다시 접근하지 못하게 된다."
   ]
  },
  {
   "cell_type": "code",
   "execution_count": 22,
   "metadata": {},
   "outputs": [
    {
     "ename": "ValueError",
     "evalue": "I/O operation on closed file.",
     "output_type": "error",
     "traceback": [
      "\u001b[1;31m---------------------------------------------------------------------------\u001b[0m",
      "\u001b[1;31mValueError\u001b[0m                                Traceback (most recent call last)",
      "\u001b[1;32m<ipython-input-22-4a9205324152>\u001b[0m in \u001b[0;36m<module>\u001b[1;34m\u001b[0m\n\u001b[1;32m----> 1\u001b[1;33m \u001b[0mfile2\u001b[0m\u001b[1;33m.\u001b[0m\u001b[0mread\u001b[0m\u001b[1;33m(\u001b[0m\u001b[1;33m)\u001b[0m\u001b[1;33m\u001b[0m\u001b[1;33m\u001b[0m\u001b[0m\n\u001b[0m",
      "\u001b[1;31mValueError\u001b[0m: I/O operation on closed file."
     ]
    }
   ],
   "source": [
    "file2.read()"
   ]
  },
  {
   "cell_type": "markdown",
   "metadata": {},
   "source": [
    "### 파일을 줄단위로 읽어오기\n",
    "파일 객체는 `readlines` 함수를 통해 한줄씩 읽어 올 수 있다."
   ]
  },
  {
   "cell_type": "code",
   "execution_count": 23,
   "metadata": {},
   "outputs": [],
   "source": [
    "with open('./data/loans3.txt', 'r') as file3:\n",
    "    file3_lines = file3.readlines()"
   ]
  },
  {
   "cell_type": "code",
   "execution_count": 24,
   "metadata": {},
   "outputs": [
    {
     "data": {
      "text/plain": [
       "['amount,duration,rate,down_payment\\n',\n",
       " '45230,48,0.07,4300\\n',\n",
       " '883000,16,0.14,\\n',\n",
       " '100000,12,0.1,\\n',\n",
       " '728400,120,0.12,100000\\n',\n",
       " '3637400,240,0.06,\\n',\n",
       " '82900,90,0.07,8900\\n',\n",
       " '316000,16,0.13,\\n',\n",
       " '15230,48,0.08,4300\\n',\n",
       " '991360,99,0.08,\\n',\n",
       " '323000,27,0.09,4720010000,36,0.08,20000\\n',\n",
       " '528400,120,0.11,100000\\n',\n",
       " '8633400,240,0.06,\\n',\n",
       " '12900,90,0.08,8900']"
      ]
     },
     "execution_count": 24,
     "metadata": {},
     "output_type": "execute_result"
    }
   ],
   "source": [
    "file3_lines"
   ]
  },
  {
   "cell_type": "markdown",
   "metadata": {},
   "source": [
    "### 파일로부터 읽은 데이터의 처리\n",
    "\n",
    "파일에 저장된 데이터에 대한 연산을 수행하기 전에, 파일 내용을 파이썬 기본 자료형인 `sting`보다 큰 자료구조로 저장할 필요가 있다.<br>\n",
    "따라서 다음과 같은 작업을 통해 파일에 접근한다:\n",
    "\n",
    "* 파일을 줄단위로 읽어오기\n",
    "* 첫번째 줄을 읽어와서 데이터 열의 이름을 가져오기\n",
    "* 남은 줄들은 float자료형으로 변환하여 나누어 저장하기\n",
    "* 데이터 열 이름을 기준으로 각각의 데이터들을 딕셔너리 자료형으로 저장하기\n",
    "* 딕셔너리 자료형들의 리스트를 만들어 모든 대출 데이터에 접근하기\n",
    "\n",
    "우리가 다양한 파일들에 대해 비슷한 작업을 수행할 것이기 때문에, `read_csv` 함수를 정의 하는 것이 좋다.<br>\n",
    "`read_csv`함수는 여러가지 함수를 순차적으로 작동시키는 함수로 만들어서 파일에 접근하기 용이하게 만들어 준다.<br><br>\n",
    "\n",
    "파일의 첫 번째 줄을 읽어오는 `parse_header`함수를 먼저 정의 하는 것으로 시작해보도록 한다."
   ]
  },
  {
   "cell_type": "code",
   "execution_count": 1,
   "metadata": {},
   "outputs": [],
   "source": [
    "def parse_headers(header_line):\n",
    "    return header_line.strip().split(',')"
   ]
  },
  {
   "cell_type": "markdown",
   "metadata": {},
   "source": [
    "`strip` 는 `\\n`와 같이 뒤의 빈 공간들을 제거해주는 역할을 수행한다.<br>\n",
    "`split` 함수는 주어진 인자를 기준으로 데이터들을 나누어 리스트 형태로 저장한다. (위의 경우 `,`를 사용한다)."
   ]
  },
  {
   "cell_type": "code",
   "execution_count": 2,
   "metadata": {},
   "outputs": [
    {
     "ename": "NameError",
     "evalue": "name 'file3_lines' is not defined",
     "output_type": "error",
     "traceback": [
      "\u001b[1;31m---------------------------------------------------------------------------\u001b[0m",
      "\u001b[1;31mNameError\u001b[0m                                 Traceback (most recent call last)",
      "\u001b[1;32m<ipython-input-2-a810aa3fe476>\u001b[0m in \u001b[0;36m<module>\u001b[1;34m\u001b[0m\n\u001b[1;32m----> 1\u001b[1;33m \u001b[0mfile3_lines\u001b[0m\u001b[1;33m[\u001b[0m\u001b[1;36m0\u001b[0m\u001b[1;33m]\u001b[0m\u001b[1;33m\u001b[0m\u001b[1;33m\u001b[0m\u001b[0m\n\u001b[0m",
      "\u001b[1;31mNameError\u001b[0m: name 'file3_lines' is not defined"
     ]
    }
   ],
   "source": [
    "file3_lines[0]"
   ]
  },
  {
   "cell_type": "code",
   "execution_count": 3,
   "metadata": {},
   "outputs": [
    {
     "ename": "NameError",
     "evalue": "name 'file3_lines' is not defined",
     "output_type": "error",
     "traceback": [
      "\u001b[1;31m---------------------------------------------------------------------------\u001b[0m",
      "\u001b[1;31mNameError\u001b[0m                                 Traceback (most recent call last)",
      "\u001b[1;32m<ipython-input-3-2aa351f488b2>\u001b[0m in \u001b[0;36m<module>\u001b[1;34m\u001b[0m\n\u001b[1;32m----> 1\u001b[1;33m \u001b[0mheaders\u001b[0m \u001b[1;33m=\u001b[0m \u001b[0mparse_headers\u001b[0m\u001b[1;33m(\u001b[0m\u001b[0mfile3_lines\u001b[0m\u001b[1;33m[\u001b[0m\u001b[1;36m0\u001b[0m\u001b[1;33m]\u001b[0m\u001b[1;33m)\u001b[0m\u001b[1;33m\u001b[0m\u001b[1;33m\u001b[0m\u001b[0m\n\u001b[0m",
      "\u001b[1;31mNameError\u001b[0m: name 'file3_lines' is not defined"
     ]
    }
   ],
   "source": [
    "headers = parse_headers(file3_lines[0])"
   ]
  },
  {
   "cell_type": "code",
   "execution_count": 4,
   "metadata": {},
   "outputs": [
    {
     "ename": "NameError",
     "evalue": "name 'headers' is not defined",
     "output_type": "error",
     "traceback": [
      "\u001b[1;31m---------------------------------------------------------------------------\u001b[0m",
      "\u001b[1;31mNameError\u001b[0m                                 Traceback (most recent call last)",
      "\u001b[1;32m<ipython-input-4-1333ec1c5ae9>\u001b[0m in \u001b[0;36m<module>\u001b[1;34m\u001b[0m\n\u001b[1;32m----> 1\u001b[1;33m \u001b[0mheaders\u001b[0m\u001b[1;33m\u001b[0m\u001b[1;33m\u001b[0m\u001b[0m\n\u001b[0m",
      "\u001b[1;31mNameError\u001b[0m: name 'headers' is not defined"
     ]
    }
   ],
   "source": [
    "headers"
   ]
  },
  {
   "cell_type": "markdown",
   "metadata": {},
   "source": [
    "다음은 `parse_values` 함수를 만들어서 데이터를 가지고 있는 줄들을 받아 실수 리스트로 만들어 내는 작업을 수행한다."
   ]
  },
  {
   "cell_type": "code",
   "execution_count": 5,
   "metadata": {},
   "outputs": [],
   "source": [
    "def parse_values(data_line):\n",
    "    values = []\n",
    "    for item in data_line.strip().split(','):\n",
    "        values.append(float(item))\n",
    "    return values"
   ]
  },
  {
   "cell_type": "code",
   "execution_count": 6,
   "metadata": {},
   "outputs": [
    {
     "ename": "NameError",
     "evalue": "name 'file3_lines' is not defined",
     "output_type": "error",
     "traceback": [
      "\u001b[1;31m---------------------------------------------------------------------------\u001b[0m",
      "\u001b[1;31mNameError\u001b[0m                                 Traceback (most recent call last)",
      "\u001b[1;32m<ipython-input-6-c8eb5f4ef116>\u001b[0m in \u001b[0;36m<module>\u001b[1;34m\u001b[0m\n\u001b[1;32m----> 1\u001b[1;33m \u001b[0mfile3_lines\u001b[0m\u001b[1;33m[\u001b[0m\u001b[1;36m1\u001b[0m\u001b[1;33m]\u001b[0m\u001b[1;33m\u001b[0m\u001b[1;33m\u001b[0m\u001b[0m\n\u001b[0m",
      "\u001b[1;31mNameError\u001b[0m: name 'file3_lines' is not defined"
     ]
    }
   ],
   "source": [
    "file3_lines[1]"
   ]
  },
  {
   "cell_type": "code",
   "execution_count": 7,
   "metadata": {},
   "outputs": [
    {
     "ename": "NameError",
     "evalue": "name 'file3_lines' is not defined",
     "output_type": "error",
     "traceback": [
      "\u001b[1;31m---------------------------------------------------------------------------\u001b[0m",
      "\u001b[1;31mNameError\u001b[0m                                 Traceback (most recent call last)",
      "\u001b[1;32m<ipython-input-7-8fce309b2158>\u001b[0m in \u001b[0;36m<module>\u001b[1;34m\u001b[0m\n\u001b[1;32m----> 1\u001b[1;33m \u001b[0mparse_values\u001b[0m\u001b[1;33m(\u001b[0m\u001b[0mfile3_lines\u001b[0m\u001b[1;33m[\u001b[0m\u001b[1;36m1\u001b[0m\u001b[1;33m]\u001b[0m\u001b[1;33m)\u001b[0m\u001b[1;33m\u001b[0m\u001b[1;33m\u001b[0m\u001b[0m\n\u001b[0m",
      "\u001b[1;31mNameError\u001b[0m: name 'file3_lines' is not defined"
     ]
    }
   ],
   "source": [
    "parse_values(file3_lines[1])"
   ]
  },
  {
   "cell_type": "markdown",
   "metadata": {},
   "source": [
    "기대했던 대로, 파일 내 데이터들이 읽어져서 실수형태로 저장되었다<br>\n",
    "계약금 값이 없는 다른 데이터를 읽어오는 작업을 해보도록 하자"
   ]
  },
  {
   "cell_type": "code",
   "execution_count": 8,
   "metadata": {},
   "outputs": [
    {
     "ename": "NameError",
     "evalue": "name 'file3_lines' is not defined",
     "output_type": "error",
     "traceback": [
      "\u001b[1;31m---------------------------------------------------------------------------\u001b[0m",
      "\u001b[1;31mNameError\u001b[0m                                 Traceback (most recent call last)",
      "\u001b[1;32m<ipython-input-8-b7479adbdfb5>\u001b[0m in \u001b[0;36m<module>\u001b[1;34m\u001b[0m\n\u001b[1;32m----> 1\u001b[1;33m \u001b[0mfile3_lines\u001b[0m\u001b[1;33m[\u001b[0m\u001b[1;36m2\u001b[0m\u001b[1;33m]\u001b[0m\u001b[1;33m\u001b[0m\u001b[1;33m\u001b[0m\u001b[0m\n\u001b[0m",
      "\u001b[1;31mNameError\u001b[0m: name 'file3_lines' is not defined"
     ]
    }
   ],
   "source": [
    "file3_lines[2]"
   ]
  },
  {
   "cell_type": "code",
   "execution_count": 9,
   "metadata": {},
   "outputs": [
    {
     "ename": "NameError",
     "evalue": "name 'file3_lines' is not defined",
     "output_type": "error",
     "traceback": [
      "\u001b[1;31m---------------------------------------------------------------------------\u001b[0m",
      "\u001b[1;31mNameError\u001b[0m                                 Traceback (most recent call last)",
      "\u001b[1;32m<ipython-input-9-b170e8564609>\u001b[0m in \u001b[0;36m<module>\u001b[1;34m\u001b[0m\n\u001b[1;32m----> 1\u001b[1;33m \u001b[0mparse_values\u001b[0m\u001b[1;33m(\u001b[0m\u001b[0mfile3_lines\u001b[0m\u001b[1;33m[\u001b[0m\u001b[1;36m2\u001b[0m\u001b[1;33m]\u001b[0m\u001b[1;33m)\u001b[0m\u001b[1;33m\u001b[0m\u001b[1;33m\u001b[0m\u001b[0m\n\u001b[0m",
      "\u001b[1;31mNameError\u001b[0m: name 'file3_lines' is not defined"
     ]
    }
   ],
   "source": [
    "parse_values(file3_lines[2])"
   ]
  },
  {
   "cell_type": "markdown",
   "metadata": {},
   "source": [
    "위 예제 코드는 `ValueError` 를 야기한다.<br>\n",
    "왜냐하면 비어있는 값 `''` 이 실수형태로 변환될 수 없기 때문이다.<br>\n",
    "이러한 문제을 __edge case__ 라고 하는데 이를 해결하고자 `parse_values` 를 수정할 필요가 있다."
   ]
  },
  {
   "cell_type": "code",
   "execution_count": 10,
   "metadata": {},
   "outputs": [],
   "source": [
    "def parse_values(data_line):\n",
    "    values = []\n",
    "    for item in data_line.strip().split(','):\n",
    "        if item == '':\n",
    "            values.append(0.0)\n",
    "        else:\n",
    "            values.append(float(item))\n",
    "    return values"
   ]
  },
  {
   "cell_type": "code",
   "execution_count": 11,
   "metadata": {},
   "outputs": [
    {
     "ename": "NameError",
     "evalue": "name 'file3_lines' is not defined",
     "output_type": "error",
     "traceback": [
      "\u001b[1;31m---------------------------------------------------------------------------\u001b[0m",
      "\u001b[1;31mNameError\u001b[0m                                 Traceback (most recent call last)",
      "\u001b[1;32m<ipython-input-11-b7479adbdfb5>\u001b[0m in \u001b[0;36m<module>\u001b[1;34m\u001b[0m\n\u001b[1;32m----> 1\u001b[1;33m \u001b[0mfile3_lines\u001b[0m\u001b[1;33m[\u001b[0m\u001b[1;36m2\u001b[0m\u001b[1;33m]\u001b[0m\u001b[1;33m\u001b[0m\u001b[1;33m\u001b[0m\u001b[0m\n\u001b[0m",
      "\u001b[1;31mNameError\u001b[0m: name 'file3_lines' is not defined"
     ]
    }
   ],
   "source": [
    "file3_lines[2]"
   ]
  },
  {
   "cell_type": "code",
   "execution_count": 12,
   "metadata": {},
   "outputs": [
    {
     "ename": "NameError",
     "evalue": "name 'file3_lines' is not defined",
     "output_type": "error",
     "traceback": [
      "\u001b[1;31m---------------------------------------------------------------------------\u001b[0m",
      "\u001b[1;31mNameError\u001b[0m                                 Traceback (most recent call last)",
      "\u001b[1;32m<ipython-input-12-b170e8564609>\u001b[0m in \u001b[0;36m<module>\u001b[1;34m\u001b[0m\n\u001b[1;32m----> 1\u001b[1;33m \u001b[0mparse_values\u001b[0m\u001b[1;33m(\u001b[0m\u001b[0mfile3_lines\u001b[0m\u001b[1;33m[\u001b[0m\u001b[1;36m2\u001b[0m\u001b[1;33m]\u001b[0m\u001b[1;33m)\u001b[0m\u001b[1;33m\u001b[0m\u001b[1;33m\u001b[0m\u001b[0m\n\u001b[0m",
      "\u001b[1;31mNameError\u001b[0m: name 'file3_lines' is not defined"
     ]
    }
   ],
   "source": [
    "parse_values(file3_lines[2])"
   ]
  },
  {
   "cell_type": "markdown",
   "metadata": {},
   "source": [
    "다음으로는 열 정보를 가진 첫줄의 리스트와 데이터 정보를 가진 나머지 줄의 리스트를 입력받아 하나의 딕셔너리로 만들어주는 `create_item_dict`를 만들어야 한다.\n"
   ]
  },
  {
   "cell_type": "code",
   "execution_count": 13,
   "metadata": {},
   "outputs": [],
   "source": [
    "def create_item_dict(values, headers):\n",
    "    result = {}\n",
    "    for value, header in zip(values, headers):\n",
    "        result[header] = value\n",
    "    return result"
   ]
  },
  {
   "cell_type": "markdown",
   "metadata": {},
   "source": [
    "`zip` 은 파이썬의 내장 함수이다. <br>\n",
    "이에 대해 자세한 내용은 옆의 웹페이지에 나와있다. [read the documentation](https://docs.python.org/3.3/library/functions.html#zip)."
   ]
  },
  {
   "cell_type": "code",
   "execution_count": 38,
   "metadata": {},
   "outputs": [
    {
     "name": "stdout",
     "output_type": "stream",
     "text": [
      "(1, 'a')\n",
      "(2, 'b')\n",
      "(3, 'c')\n"
     ]
    }
   ],
   "source": [
    "for item in zip([1,2,3], ['a', 'b', 'c']):\n",
    "    print(item)"
   ]
  },
  {
   "cell_type": "markdown",
   "metadata": {},
   "source": [
    "`create_item_dict`를 몇번 더 테스트 해보도록 하자."
   ]
  },
  {
   "cell_type": "code",
   "execution_count": 14,
   "metadata": {},
   "outputs": [
    {
     "ename": "NameError",
     "evalue": "name 'file3_lines' is not defined",
     "output_type": "error",
     "traceback": [
      "\u001b[1;31m---------------------------------------------------------------------------\u001b[0m",
      "\u001b[1;31mNameError\u001b[0m                                 Traceback (most recent call last)",
      "\u001b[1;32m<ipython-input-14-c8eb5f4ef116>\u001b[0m in \u001b[0;36m<module>\u001b[1;34m\u001b[0m\n\u001b[1;32m----> 1\u001b[1;33m \u001b[0mfile3_lines\u001b[0m\u001b[1;33m[\u001b[0m\u001b[1;36m1\u001b[0m\u001b[1;33m]\u001b[0m\u001b[1;33m\u001b[0m\u001b[1;33m\u001b[0m\u001b[0m\n\u001b[0m",
      "\u001b[1;31mNameError\u001b[0m: name 'file3_lines' is not defined"
     ]
    }
   ],
   "source": [
    "file3_lines[1]"
   ]
  },
  {
   "cell_type": "code",
   "execution_count": 15,
   "metadata": {},
   "outputs": [
    {
     "ename": "NameError",
     "evalue": "name 'file3_lines' is not defined",
     "output_type": "error",
     "traceback": [
      "\u001b[1;31m---------------------------------------------------------------------------\u001b[0m",
      "\u001b[1;31mNameError\u001b[0m                                 Traceback (most recent call last)",
      "\u001b[1;32m<ipython-input-15-310a1c54ad80>\u001b[0m in \u001b[0;36m<module>\u001b[1;34m\u001b[0m\n\u001b[1;32m----> 1\u001b[1;33m \u001b[0mvalues1\u001b[0m \u001b[1;33m=\u001b[0m \u001b[0mparse_values\u001b[0m\u001b[1;33m(\u001b[0m\u001b[0mfile3_lines\u001b[0m\u001b[1;33m[\u001b[0m\u001b[1;36m1\u001b[0m\u001b[1;33m]\u001b[0m\u001b[1;33m)\u001b[0m\u001b[1;33m\u001b[0m\u001b[1;33m\u001b[0m\u001b[0m\n\u001b[0m\u001b[0;32m      2\u001b[0m \u001b[0mcreate_item_dict\u001b[0m\u001b[1;33m(\u001b[0m\u001b[0mvalues1\u001b[0m\u001b[1;33m,\u001b[0m \u001b[0mheaders\u001b[0m\u001b[1;33m)\u001b[0m\u001b[1;33m\u001b[0m\u001b[1;33m\u001b[0m\u001b[0m\n",
      "\u001b[1;31mNameError\u001b[0m: name 'file3_lines' is not defined"
     ]
    }
   ],
   "source": [
    "values1 = parse_values(file3_lines[1])\n",
    "create_item_dict(values1, headers)"
   ]
  },
  {
   "cell_type": "code",
   "execution_count": 41,
   "metadata": {},
   "outputs": [
    {
     "data": {
      "text/plain": [
       "'883000,16,0.14,\\n'"
      ]
     },
     "execution_count": 41,
     "metadata": {},
     "output_type": "execute_result"
    }
   ],
   "source": [
    "file3_lines[2]"
   ]
  },
  {
   "cell_type": "code",
   "execution_count": 42,
   "metadata": {},
   "outputs": [
    {
     "data": {
      "text/plain": [
       "{'amount': 883000.0, 'duration': 16.0, 'rate': 0.14, 'down_payment': 0.0}"
      ]
     },
     "execution_count": 42,
     "metadata": {},
     "output_type": "execute_result"
    }
   ],
   "source": [
    "values2 = parse_values(file3_lines[2])\n",
    "create_item_dict(values2, headers)"
   ]
  },
  {
   "cell_type": "markdown",
   "metadata": {},
   "source": [
    "기대했던 대로, 열정보와 값정보가 쌍으로 이어진 형태로 파일의 데이터가 저장되었다.<br>\n",
    "\n",
    "이제 우리는 이 데이터 추출 함수들을 모아서 `read_csv` 함수를 만들면 된다!"
   ]
  },
  {
   "cell_type": "code",
   "execution_count": 43,
   "metadata": {},
   "outputs": [],
   "source": [
    "def read_csv(path):\n",
    "    result = []\n",
    "    # Open the file in read mode\n",
    "    with open(path, 'r') as f:\n",
    "        # Get a list of lines\n",
    "        lines = f.readlines()\n",
    "        # Parse the header\n",
    "        headers = parse_headers(lines[0])\n",
    "        # Loop over the remaining lines\n",
    "        for data_line in lines[1:]:\n",
    "            # Parse the values\n",
    "            values = parse_values(data_line)\n",
    "            # Create a dictionary using values & headers\n",
    "            item_dict = create_item_dict(values, headers)\n",
    "            # Add the dictionary to the result\n",
    "            result.append(item_dict)\n",
    "    return result"
   ]
  },
  {
   "cell_type": "markdown",
   "metadata": {},
   "source": [
    "만들어진 함수를 사용해보도록 하자!"
   ]
  },
  {
   "cell_type": "code",
   "execution_count": 44,
   "metadata": {},
   "outputs": [
    {
     "name": "stdout",
     "output_type": "stream",
     "text": [
      "amount,duration,rate,down_payment\n",
      "828400,120,0.11,100000\n",
      "4633400,240,0.06,\n",
      "42900,90,0.08,8900\n",
      "983000,16,0.14,\n",
      "15230,48,0.07,4300\n"
     ]
    }
   ],
   "source": [
    "with open('./data/loans2.txt') as file2:\n",
    "    print(file2.read())"
   ]
  },
  {
   "cell_type": "code",
   "execution_count": 45,
   "metadata": {},
   "outputs": [
    {
     "data": {
      "text/plain": [
       "[{'amount': 828400.0,\n",
       "  'duration': 120.0,\n",
       "  'rate': 0.11,\n",
       "  'down_payment': 100000.0},\n",
       " {'amount': 4633400.0, 'duration': 240.0, 'rate': 0.06, 'down_payment': 0.0},\n",
       " {'amount': 42900.0, 'duration': 90.0, 'rate': 0.08, 'down_payment': 8900.0},\n",
       " {'amount': 983000.0, 'duration': 16.0, 'rate': 0.14, 'down_payment': 0.0},\n",
       " {'amount': 15230.0, 'duration': 48.0, 'rate': 0.07, 'down_payment': 4300.0}]"
      ]
     },
     "execution_count": 45,
     "metadata": {},
     "output_type": "execute_result"
    }
   ],
   "source": [
    "read_csv('./data/loans2.txt')"
   ]
  },
  {
   "cell_type": "markdown",
   "metadata": {},
   "source": [
    "의도했던대로 파일을 읽어와서 각 데이터들을 딕셔너리에 저장했다!<br> \n",
    "`read_csv` 는 이제 행과 열의 개수에 구애받지 않고 어떠한 CSV파일이라도 읽을 수 있는 함수가 되었다!<br>\n",
    "`read_csv`함수의 내용과 기능을 정리해보면 아래와 같다:"
   ]
  },
  {
   "cell_type": "code",
   "execution_count": 46,
   "metadata": {},
   "outputs": [],
   "source": [
    "def parse_headers(header_line):\n",
    "    return header_line.strip().split(',')\n",
    "\n",
    "def parse_values(data_line):\n",
    "    values = []\n",
    "    for item in data_line.strip().split(','):\n",
    "        if item == '':\n",
    "            values.append(0.0)\n",
    "        else:\n",
    "            values.append(float(item))\n",
    "    return values\n",
    "\n",
    "def create_item_dict(values, headers):\n",
    "    result = {}\n",
    "    for value, header in zip(values, headers):\n",
    "        result[header] = value\n",
    "    return result\n",
    "\n",
    "def read_csv(path):\n",
    "    result = []\n",
    "    # Open the file in read mode\n",
    "    with open(path, 'r') as f:\n",
    "        # Get a list of lines\n",
    "        lines = f.readlines()\n",
    "        # Parse the header\n",
    "        headers = parse_headers(lines[0])\n",
    "        # Loop over the remaining lines\n",
    "        for data_line in lines[1:]:\n",
    "            # Parse the values\n",
    "            values = parse_values(data_line)\n",
    "            # Create a dictionary using values & headers\n",
    "            item_dict = create_item_dict(values, headers)\n",
    "            # Add the dictionary to the result\n",
    "            result.append(item_dict)\n",
    "    return result"
   ]
  },
  {
   "cell_type": "markdown",
   "metadata": {},
   "source": [
    "<font color=blue>작고, 일반화 가능하고, 재사용가능한 함수</font>는 언제든지 만들어 두는 것이 좋다!<br>\n",
    "만들어진 함수들은 미래 언젠가에 너의 노력과 시간을 엄청나게 줄여줄 수 있을 것이다!!!<br>\n",
    "아래는 이전 강의에서 만들었던 함수이다."
   ]
  },
  {
   "cell_type": "code",
   "execution_count": 17,
   "metadata": {},
   "outputs": [],
   "source": [
    "import math\n",
    "\n",
    "def loan_emi(amount, duration, rate, down_payment=0):\n",
    "    \"\"\"Calculates the equal montly installment (EMI) for a loan.\n",
    "    \n",
    "    Arguments:\n",
    "        amount - Total amount to be spent (loan + down payment)\n",
    "        duration - Duration of the loan (in months)\n",
    "        rate - Rate of interest (monthly)\n",
    "        down_payment (optional) - Optional intial payment (deducted from amount)\n",
    "    \"\"\"\n",
    "    loan_amount = amount - down_payment\n",
    "    try:\n",
    "        emi = loan_amount * rate * ((1+rate)**duration) / (((1+rate)**duration)-1)\n",
    "    except ZeroDivisionError:\n",
    "        emi = loan_amount / duration\n",
    "    emi = math.ceil(emi)\n",
    "    return emi"
   ]
  },
  {
   "cell_type": "markdown",
   "metadata": {},
   "source": [
    "각각의 대출 정보들에 대한 emi를 구하기 위해 이 함수를 사용할 수 있다."
   ]
  },
  {
   "cell_type": "code",
   "execution_count": 48,
   "metadata": {},
   "outputs": [],
   "source": [
    "loans2 = read_csv('./data/loans2.txt')"
   ]
  },
  {
   "cell_type": "code",
   "execution_count": 49,
   "metadata": {},
   "outputs": [
    {
     "data": {
      "text/plain": [
       "[{'amount': 828400.0,\n",
       "  'duration': 120.0,\n",
       "  'rate': 0.11,\n",
       "  'down_payment': 100000.0},\n",
       " {'amount': 4633400.0, 'duration': 240.0, 'rate': 0.06, 'down_payment': 0.0},\n",
       " {'amount': 42900.0, 'duration': 90.0, 'rate': 0.08, 'down_payment': 8900.0},\n",
       " {'amount': 983000.0, 'duration': 16.0, 'rate': 0.14, 'down_payment': 0.0},\n",
       " {'amount': 15230.0, 'duration': 48.0, 'rate': 0.07, 'down_payment': 4300.0}]"
      ]
     },
     "execution_count": 49,
     "metadata": {},
     "output_type": "execute_result"
    }
   ],
   "source": [
    "loans2"
   ]
  },
  {
   "cell_type": "code",
   "execution_count": 50,
   "metadata": {},
   "outputs": [],
   "source": [
    "for loan in loans2:\n",
    "    loan['emi'] = loan_emi(loan['amount'], \n",
    "                           loan['duration'], \n",
    "                           loan['rate']/12, # the CSV contains yearly rates\n",
    "                           loan['down_payment'])"
   ]
  },
  {
   "cell_type": "code",
   "execution_count": 51,
   "metadata": {},
   "outputs": [
    {
     "data": {
      "text/plain": [
       "[{'amount': 828400.0,\n",
       "  'duration': 120.0,\n",
       "  'rate': 0.11,\n",
       "  'down_payment': 100000.0,\n",
       "  'emi': 10034},\n",
       " {'amount': 4633400.0,\n",
       "  'duration': 240.0,\n",
       "  'rate': 0.06,\n",
       "  'down_payment': 0.0,\n",
       "  'emi': 33196},\n",
       " {'amount': 42900.0,\n",
       "  'duration': 90.0,\n",
       "  'rate': 0.08,\n",
       "  'down_payment': 8900.0,\n",
       "  'emi': 504},\n",
       " {'amount': 983000.0,\n",
       "  'duration': 16.0,\n",
       "  'rate': 0.14,\n",
       "  'down_payment': 0.0,\n",
       "  'emi': 67707},\n",
       " {'amount': 15230.0,\n",
       "  'duration': 48.0,\n",
       "  'rate': 0.07,\n",
       "  'down_payment': 4300.0,\n",
       "  'emi': 262}]"
      ]
     },
     "execution_count": 51,
     "metadata": {},
     "output_type": "execute_result"
    }
   ],
   "source": [
    "loans2"
   ]
  },
  {
   "cell_type": "markdown",
   "metadata": {},
   "source": [
    "이제 각각의 대출정보에는 대출에 대한 EMI정보를 가지고 있는 `emi`라는 새로운 열이 존재하게 된다.<br>\n",
    "앞으로 위의 함수를 이용해 추가적으로 모든 대출 정보를 가진 파일에 대한 `emi`를 만들어서 추가할 수 있다."
   ]
  },
  {
   "cell_type": "code",
   "execution_count": 52,
   "metadata": {},
   "outputs": [],
   "source": [
    "def compute_emis(loans):\n",
    "    for loan in loans:\n",
    "        loan['emi'] = loan_emi(\n",
    "            loan['amount'], \n",
    "            loan['duration'], \n",
    "            loan['rate']/12, # the CSV contains yearly rates\n",
    "            loan['down_payment'])"
   ]
  },
  {
   "cell_type": "markdown",
   "metadata": {},
   "source": [
    "### 파일에 쓰기\n",
    "\n",
    "파일 내 데이터에 접근하고 몇가지 처리를 해보는 과정을 해보았다.<br>\n",
    "파일에 대한 처리가 완료되었다면 이제 다시 CSV 파일로 저장해주는 것이 좋다.<br>\n",
    "우리는 `w` 모드로 파일을 `open`하여 파일에 데이터를 쓸 수 있다.<br>\n"
   ]
  },
  {
   "cell_type": "code",
   "execution_count": 53,
   "metadata": {},
   "outputs": [],
   "source": [
    "loans2 = read_csv('./data/loans2.txt')"
   ]
  },
  {
   "cell_type": "code",
   "execution_count": 54,
   "metadata": {},
   "outputs": [],
   "source": [
    "compute_emis(loans2)"
   ]
  },
  {
   "cell_type": "code",
   "execution_count": 55,
   "metadata": {},
   "outputs": [
    {
     "data": {
      "text/plain": [
       "[{'amount': 828400.0,\n",
       "  'duration': 120.0,\n",
       "  'rate': 0.11,\n",
       "  'down_payment': 100000.0,\n",
       "  'emi': 10034},\n",
       " {'amount': 4633400.0,\n",
       "  'duration': 240.0,\n",
       "  'rate': 0.06,\n",
       "  'down_payment': 0.0,\n",
       "  'emi': 33196},\n",
       " {'amount': 42900.0,\n",
       "  'duration': 90.0,\n",
       "  'rate': 0.08,\n",
       "  'down_payment': 8900.0,\n",
       "  'emi': 504},\n",
       " {'amount': 983000.0,\n",
       "  'duration': 16.0,\n",
       "  'rate': 0.14,\n",
       "  'down_payment': 0.0,\n",
       "  'emi': 67707},\n",
       " {'amount': 15230.0,\n",
       "  'duration': 48.0,\n",
       "  'rate': 0.07,\n",
       "  'down_payment': 4300.0,\n",
       "  'emi': 262}]"
      ]
     },
     "execution_count": 55,
     "metadata": {},
     "output_type": "execute_result"
    }
   ],
   "source": [
    "loans2"
   ]
  },
  {
   "cell_type": "code",
   "execution_count": 56,
   "metadata": {},
   "outputs": [],
   "source": [
    "with open('./data/emis2.txt', 'w') as f:\n",
    "    for loan in loans2:\n",
    "        f.write('{},{},{},{},{}\\n'.format(\n",
    "            loan['amount'], \n",
    "            loan['duration'], \n",
    "            loan['rate'], \n",
    "            loan['down_payment'], \n",
    "            loan['emi']))"
   ]
  },
  {
   "cell_type": "markdown",
   "metadata": {},
   "source": [
    "파일이 잘 만들어졌는지 확인해보자!"
   ]
  },
  {
   "cell_type": "code",
   "execution_count": 58,
   "metadata": {},
   "outputs": [
    {
     "data": {
      "text/plain": [
       "['loans2.txt',\n",
       " 'loans3.txt',\n",
       " 'loans1.txt',\n",
       " 'emis3.txt',\n",
       " 'emis2.txt',\n",
       " 'emis1.txt']"
      ]
     },
     "execution_count": 58,
     "metadata": {},
     "output_type": "execute_result"
    }
   ],
   "source": [
    "os.listdir('data')"
   ]
  },
  {
   "cell_type": "code",
   "execution_count": 59,
   "metadata": {},
   "outputs": [
    {
     "name": "stdout",
     "output_type": "stream",
     "text": [
      "828400.0,120.0,0.11,100000.0,10034\n",
      "4633400.0,240.0,0.06,0.0,33196\n",
      "42900.0,90.0,0.08,8900.0,504\n",
      "983000.0,16.0,0.14,0.0,67707\n",
      "15230.0,48.0,0.07,4300.0,262\n",
      "\n"
     ]
    }
   ],
   "source": [
    "with open('./data/emis2.txt', 'r') as f:\n",
    "    print(f.read())"
   ]
  },
  {
   "cell_type": "markdown",
   "metadata": {},
   "source": [
    "대출정보가 포함되어있는 딕셔너리로 구성된 리스트데이터를 CSV파일로 저장하는 기능을 하는 `write_csv` 함수를 만들어보도록 하자.<br>\n",
    "열정보도 파일에 함께 넣어보도록 하자"
   ]
  },
  {
   "cell_type": "code",
   "execution_count": 60,
   "metadata": {},
   "outputs": [],
   "source": [
    "def write_csv(items, path):\n",
    "    # Open the file in write mode\n",
    "    with open(path, 'w') as f:\n",
    "        # Return if there's nothing to write\n",
    "        if len(items) == 0:\n",
    "            return\n",
    "        \n",
    "        # Write the headers in the first line\n",
    "        headers = list(items[0].keys())\n",
    "        f.write(','.join(headers) + '\\n')\n",
    "        \n",
    "        # Write one item per line\n",
    "        for item in items:\n",
    "            values = []\n",
    "            for header in headers:\n",
    "                values.append(str(item.get(header, \"\")))\n",
    "            f.write(','.join(values) + \"\\n\")"
   ]
  },
  {
   "cell_type": "markdown",
   "metadata": {},
   "source": [
    "함수의 동작을 이해할 수 있겠는가?<br>\n",
    "아직 잘 모르겠다면 각각의 기능단위로 출력을 확인하면서 만들어보도록하자. "
   ]
  },
  {
   "cell_type": "code",
   "execution_count": 61,
   "metadata": {},
   "outputs": [],
   "source": [
    "loans3 = read_csv('./data/loans3.txt')"
   ]
  },
  {
   "cell_type": "code",
   "execution_count": 62,
   "metadata": {},
   "outputs": [],
   "source": [
    "compute_emis(loans3)"
   ]
  },
  {
   "cell_type": "code",
   "execution_count": 63,
   "metadata": {},
   "outputs": [],
   "source": [
    "write_csv(loans3, './data/emis3.txt')"
   ]
  },
  {
   "cell_type": "code",
   "execution_count": 64,
   "metadata": {},
   "outputs": [
    {
     "name": "stdout",
     "output_type": "stream",
     "text": [
      "amount,duration,rate,down_payment,emi\n",
      "45230.0,48.0,0.07,4300.0,981\n",
      "883000.0,16.0,0.14,0.0,60819\n",
      "100000.0,12.0,0.1,0.0,8792\n",
      "728400.0,120.0,0.12,100000.0,9016\n",
      "3637400.0,240.0,0.06,0.0,26060\n",
      "82900.0,90.0,0.07,8900.0,1060\n",
      "316000.0,16.0,0.13,0.0,21618\n",
      "15230.0,48.0,0.08,4300.0,267\n",
      "991360.0,99.0,0.08,0.0,13712\n",
      "323000.0,27.0,0.09,4720010000.0,-193751447\n",
      "528400.0,120.0,0.11,100000.0,5902\n",
      "8633400.0,240.0,0.06,0.0,61853\n",
      "12900.0,90.0,0.08,8900.0,60\n",
      "\n"
     ]
    }
   ],
   "source": [
    "with open('./data/emis3.txt', 'r') as f:\n",
    "    print(f.read())"
   ]
  },
  {
   "cell_type": "markdown",
   "metadata": {},
   "source": [
    "이제 우리는 단지 4줄만 코딩을 해도 <br>\n",
    "- 파일을 다운로드하고 <br>\n",
    "- EMIs를 계산하고\n",
    "- 데이터를 다시 파일로 만들어 낼 수 있다!"
   ]
  },
  {
   "cell_type": "code",
   "execution_count": 65,
   "metadata": {},
   "outputs": [],
   "source": [
    "for i in range(1,4):\n",
    "    loans = read_csv('./data/loans{}.txt'.format(i))\n",
    "    compute_emis(loans)\n",
    "    write_csv(loans, './data/emis{}.txt'.format(i))"
   ]
  },
  {
   "cell_type": "code",
   "execution_count": 66,
   "metadata": {},
   "outputs": [
    {
     "data": {
      "text/plain": [
       "['loans2.txt',\n",
       " 'loans3.txt',\n",
       " 'loans1.txt',\n",
       " 'emis3.txt',\n",
       " 'emis2.txt',\n",
       " 'emis1.txt']"
      ]
     },
     "execution_count": 66,
     "metadata": {},
     "output_type": "execute_result"
    }
   ],
   "source": [
    "os.listdir('./data')"
   ]
  },
  {
   "cell_type": "markdown",
   "metadata": {},
   "source": [
    "## 내용 요약\n",
    "\n",
    "이번 장에서, 우리는 파이썬에서 파일의 읽고 쓰는 법을 배워보았다.<br>\n",
    "다음과 같은 내용들이 이번 튜토리얼에서 다루어졌다.\n",
    "\n",
    "<font color=blue>\n",
    "- `os` 라이브러리를 이용한 파일 입출력<br>\n",
    "- `urllib` 라이브러리를 이용해서 웹에서 파일 다운로드 받기<br>\n",
    "- 내장함수 `open`를 사용해서 파일 읽기<br>\n",
    "- `with`문을 이용해서 파일을 자동으로 닫기<br>\n",
    "- 텍스트 파일에서 `readlines`를 이용해 데이터 읽고 처리하기<br>\n",
    "- CSV 파일로부터 데이터를 딕셔너리와 리스트 자료형으로 가져오기<br>\n",
    "- 텍스트 파일로 데이터 저장하기<br>\n",
    "</font>\n"
   ]
  },
  {
   "cell_type": "markdown",
   "metadata": {},
   "source": [
    "## Questions for Revision\n",
    "\n",
    "Try answering the following questions to test your understanding of the topics covered in this notebook:\n",
    "\n",
    "1. What is the purpose of the `os` module in Python?\n",
    "2. How do you identify the current working directory in a Jupyter notebook?\n",
    "3. How do you retrieve the list of files within a directory using Python?\n",
    "4. How do you create a directory using Python?\n",
    "5. How do you check whether a file or directory exists on the filesystem? Hint: `os.path.exists`.\n",
    "6. Where can you find the full list of functions contained in the `os` module?\n",
    "7. Give examples of 5 useful functions from the `os` and `os.path` modules.\n",
    "8. How do you download a file from a URL using Python?\n",
    "9. How do you open a file using Python? Give an example?\n",
    "10. What are the different modes for opening a file in Python?\n",
    "11. Can you open a file in multiple modes? Illustrate with an example.\n",
    "12. What is the file object? How is it useful?\n",
    "13. How do you read the contents of a file into a string?\n",
    "14. What is a CSV file? Give an example.\n",
    "15. How do you close an open file?\n",
    "16. Why is it essential to close a file after processing it?\n",
    "17. How do you ensure that files are closed automatically after processing? Give an example.\n",
    "18. How is the `with` statement useful for working with files?\n",
    "19. What happens if you try to read from a closed file?\n",
    "20. How do you read the contents of a file line by line?\n",
    "21. Write a function to convert the contents of a CSV file into a list of dictionaries (one dictionary for each row of the file).\n",
    "22. Write a function to convert the contents of a CSV file into a dictionary of lists (one dictionary for each column of the file).\n",
    "23. How do you write to a file using Python?\n",
    "24. How is the string `.format` method for writing data to a file in CSV format?\n",
    "25. Write a function to write data from a list of dictionaries into a CSV file.\n",
    "26. Write a function to write data from a dictionary of lists into a CSV file.\n",
    "27. Where can you learn about the methods supported by the file object in Python?\n"
   ]
  },
  {
   "cell_type": "code",
   "execution_count": null,
   "metadata": {},
   "outputs": [],
   "source": []
  }
 ],
 "metadata": {
  "interpreter": {
   "hash": "df1ebef89fe3587c862adfba157bc52a83d7313f5144167cfdbe9b8c1c95e131"
  },
  "kernelspec": {
   "display_name": "Python 3",
   "language": "python",
   "name": "python3"
  },
  "language_info": {
   "codemirror_mode": {
    "name": "ipython",
    "version": 3
   },
   "file_extension": ".py",
   "mimetype": "text/x-python",
   "name": "python",
   "nbconvert_exporter": "python",
   "pygments_lexer": "ipython3",
   "version": "3.8.8"
  }
 },
 "nbformat": 4,
 "nbformat_minor": 4
}
